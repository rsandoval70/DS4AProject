{
 "cells": [
  {
   "cell_type": "markdown",
   "metadata": {},
   "source": [
    "# <font color=\"NAVY\">DS4A </font> \n",
    "\n",
    "<font color=\"NAVY\">Hector</font>  \n",
    "<font color=\"NAVY\">Ximena Rios</font>  \n",
    "<font color=\"NAVY\">Proyecto e_commerce</font>  \n"
   ]
  },
  {
   "cell_type": "markdown",
   "metadata": {},
   "source": [
    "## ¿Qué aspectos del comportamiento en línea de los consumidores son útiles para que las empresas comprendan mejor a sus clientes y predigan las tendencias del consumidor, los hábitos de gasto y las variables relacionadas con las compras?"
   ]
  },
  {
   "cell_type": "code",
   "execution_count": 1,
   "metadata": {},
   "outputs": [],
   "source": [
    "import os\n",
    "import json\n",
    "import requests\n",
    "from bs4 import BeautifulSoup\n",
    "import pandas as pd\n",
    "import matplotlib.pyplot as plt\n",
    "import seaborn as sns\n",
    "import numpy"
   ]
  },
  {
   "cell_type": "markdown",
   "metadata": {},
   "source": [
    "# Introduccion "
   ]
  },
  {
   "cell_type": "markdown",
   "metadata": {},
   "source": [
    "**Tema:** Comportamiento del consumidor en el comercio electrónico\n",
    "\n",
    "**Pregunta de investigación** ¿Qué aspectos del comportamiento en línea de los consumidores son útiles para que las empresas comprendan mejor a sus clientes y predigan las tendencias del consumidor, los hábitos de gasto y las variables relacionadas con las compras?\n",
    "\n",
    "**Objetivos**\n",
    "\n",
    "- Comprensión y limpieza de datos\n",
    "- Análisis y modelado\n",
    "- Construye modelos de predicción\n",
    "- Cree paneles para visualizar la información\n"
   ]
  },
  {
   "cell_type": "markdown",
   "metadata": {},
   "source": [
    "## Reading in the data files"
   ]
  },
  {
   "cell_type": "markdown",
   "metadata": {},
   "source": [
    "Cargamos las bases de datos que vamos a analizar."
   ]
  },
  {
   "cell_type": "code",
   "execution_count": 3,
   "metadata": {},
   "outputs": [],
   "source": [
    "ruta= os.getcwd( ) #Directorio raiz de trabajo"
   ]
  },
  {
   "cell_type": "code",
   "execution_count": 43,
   "metadata": {},
   "outputs": [
    {
     "name": "stderr",
     "output_type": "stream",
     "text": [
      "/usr/local/lib/python3.6/dist-packages/IPython/core/interactiveshell.py:3058: DtypeWarning: Columns (8) have mixed types.Specify dtype option on import or set low_memory=False.\n",
      "  interactivity=interactivity, compiler=compiler, result=result)\n"
     ]
    }
   ],
   "source": [
    "#carga de dataframe\n",
    "#Amazon\n",
    "df_ab=df_amazon_beauty=pd.read_csv(ruta+\"/data/amazon_reviews/beauty_metadata.csv\") \n",
    "#Brazilian\n",
    "df_bc=df_brazilian_customers=pd.read_csv(ruta+\"/data/brazilian-ecommerce/olist_customers_dataset.csv\") \n",
    "df_bg=df_brazilian_geolocation=pd.read_csv(ruta+\"/data/brazilian-ecommerce/olist_geolocation_dataset.csv\") \n",
    "df_bi=df_brazilian_items=pd.read_csv(ruta+\"/data/brazilian-ecommerce/olist_order_items_dataset.csv\") \n",
    "df_bop=df_brazilian_order_payments=pd.read_csv(ruta+\"/data/brazilian-ecommerce/olist_order_payments_dataset.csv\") \n",
    "df_bor=df_brazilian_order_reviews=pd.read_csv(ruta+\"/data/brazilian-ecommerce/olist_order_reviews_dataset.csv\")\n",
    "df_bo=df_brazilian_orders=pd.read_csv(ruta+\"/data/brazilian-ecommerce/olist_orders_dataset.csv\")\n",
    "df_bp=df_brazilian_products=pd.read_csv(ruta+\"/data/brazilian-ecommerce/olist_products_dataset.csv\")\n",
    "df_bs=df_brazilian_sellers=pd.read_csv(ruta+\"/data/brazilian-ecommerce/olist_sellers_dataset.csv\")\n",
    "df_bpc=df_brazilian_product_category=pd.read_csv(ruta+\"/data/brazilian-ecommerce/product_category_name_translation.csv\")\n",
    "#online\n",
    "df_oc=df_online_category=pd.read_csv(ruta+\"/data/online_consumer_behavior/category_tree.csv\")\n",
    "df_oe=df_online_events=pd.read_csv(ruta+\"/data/online_consumer_behavior/events.csv\")\n",
    "df_oi=df_online_item_properties=pd.read_csv(ruta+\"/data/online_consumer_behavior/item_properties.csv\")\n",
    "#retailer\n",
    "df_rp=df_retailer_pricing=pd.read_csv(ruta+\"/data/retailer_pricing.csv\")\n",
    "#UK_retail\n",
    "df_UK=df_UK_retail_transactions=pd.read_csv(ruta+\"/data/UK_retail_transactions.csv\")"
   ]
  },
  {
   "cell_type": "markdown",
   "metadata": {},
   "source": [
    "## <font color=\"deeppink\"> retailer_pricing </font>"
   ]
  },
  {
   "cell_type": "markdown",
   "metadata": {},
   "source": [
    "Las columnas presentadas en este archivo son:\n",
    "\n",
    "|CAMPO   |TIPO   |DESCRIPCION   |\n",
    "|---|---|---|\n",
    "|store|STRING|El minorista bajo el cual se incluye este producto*|\n",
    "|title| STRING| El título del producto.|\n",
    "|sku |STRING |La unidad de existencias específica del minorista (SKU).|\n",
    "|groupid |STRING|El SKU a nivel de grupo, identifica la lista de productos iguales o similares en diferentes minoristas|\n",
    "|brand |STRING |La marca.|\n",
    "|color |STRING |El color.|\n",
    "|sizing |STRING |La talla.|\n",
    "|category |STRING |La categoria.|\n",
    "|subcategory |STRING |La Subcategoria.|\n",
    "|price |FLOAT |El precio del producto, en USD.|\n",
    "|date |STRING |La marca de tiempo para cuando se registraron los detalles (formato:yyyy-mm-dd).|\n",
    "\n",
    "\n",
    "*minoristas: (0=amazon.com, 1=zappos.com, 2=macys.com, 3=neimanmarcus.com, 4=saksfifthavenue.com, 5=bloomingdales.com)"
   ]
  },
  {
   "cell_type": "code",
   "execution_count": 44,
   "metadata": {},
   "outputs": [
    {
     "data": {
      "text/html": [
       "<div>\n",
       "<style scoped>\n",
       "    .dataframe tbody tr th:only-of-type {\n",
       "        vertical-align: middle;\n",
       "    }\n",
       "\n",
       "    .dataframe tbody tr th {\n",
       "        vertical-align: top;\n",
       "    }\n",
       "\n",
       "    .dataframe thead th {\n",
       "        text-align: right;\n",
       "    }\n",
       "</style>\n",
       "<table border=\"1\" class=\"dataframe\">\n",
       "  <thead>\n",
       "    <tr style=\"text-align: right;\">\n",
       "      <th></th>\n",
       "      <th>store</th>\n",
       "      <th>title</th>\n",
       "      <th>sku</th>\n",
       "      <th>groupid</th>\n",
       "      <th>brand</th>\n",
       "      <th>color</th>\n",
       "      <th>sizing</th>\n",
       "      <th>category</th>\n",
       "      <th>subcategory</th>\n",
       "      <th>price</th>\n",
       "      <th>date</th>\n",
       "    </tr>\n",
       "  </thead>\n",
       "  <tbody>\n",
       "    <tr>\n",
       "      <th>0</th>\n",
       "      <td>0</td>\n",
       "      <td>HABA My First Ball Track 44-Piece Basic Pack F...</td>\n",
       "      <td>B06W5B4CMT</td>\n",
       "      <td>5473635</td>\n",
       "      <td>HABA</td>\n",
       "      <td>_no_variant_</td>\n",
       "      <td>one size</td>\n",
       "      <td>Toys/Games</td>\n",
       "      <td>Other</td>\n",
       "      <td>119.99</td>\n",
       "      <td>20190801</td>\n",
       "    </tr>\n",
       "    <tr>\n",
       "      <th>1</th>\n",
       "      <td>0</td>\n",
       "      <td>Fendi Logo Zip Around Leather Wallet</td>\n",
       "      <td>B07DNHSTWR</td>\n",
       "      <td>5482941</td>\n",
       "      <td>FENDI</td>\n",
       "      <td>_no_variant_</td>\n",
       "      <td>one size</td>\n",
       "      <td>Small Leather Goods</td>\n",
       "      <td>Wallets</td>\n",
       "      <td>650.00</td>\n",
       "      <td>20190801</td>\n",
       "    </tr>\n",
       "    <tr>\n",
       "      <th>2</th>\n",
       "      <td>0</td>\n",
       "      <td>Hanro 'Touch Feeling' Crop Top</td>\n",
       "      <td>B00009Z3N4</td>\n",
       "      <td>517719</td>\n",
       "      <td>HANRO</td>\n",
       "      <td>white</td>\n",
       "      <td>large</td>\n",
       "      <td>Underwear/Lingerie</td>\n",
       "      <td>Bra</td>\n",
       "      <td>86.00</td>\n",
       "      <td>20190801</td>\n",
       "    </tr>\n",
       "  </tbody>\n",
       "</table>\n",
       "</div>"
      ],
      "text/plain": [
       "   store                                              title         sku  \\\n",
       "0      0  HABA My First Ball Track 44-Piece Basic Pack F...  B06W5B4CMT   \n",
       "1      0               Fendi Logo Zip Around Leather Wallet  B07DNHSTWR   \n",
       "2      0                     Hanro 'Touch Feeling' Crop Top  B00009Z3N4   \n",
       "\n",
       "   groupid  brand         color    sizing             category subcategory  \\\n",
       "0  5473635   HABA  _no_variant_  one size           Toys/Games       Other   \n",
       "1  5482941  FENDI  _no_variant_  one size  Small Leather Goods     Wallets   \n",
       "2   517719  HANRO         white     large   Underwear/Lingerie         Bra   \n",
       "\n",
       "    price      date  \n",
       "0  119.99  20190801  \n",
       "1  650.00  20190801  \n",
       "2   86.00  20190801  "
      ]
     },
     "execution_count": 44,
     "metadata": {},
     "output_type": "execute_result"
    }
   ],
   "source": [
    "df_rp.head(3)"
   ]
  },
  {
   "cell_type": "code",
   "execution_count": 45,
   "metadata": {},
   "outputs": [
    {
     "data": {
      "text/plain": [
       "(22550375, 11)"
      ]
     },
     "execution_count": 45,
     "metadata": {},
     "output_type": "execute_result"
    }
   ],
   "source": [
    "df_rp.shape"
   ]
  },
  {
   "cell_type": "code",
   "execution_count": 46,
   "metadata": {},
   "outputs": [
    {
     "data": {
      "text/plain": [
       "store               6\n",
       "title           68556\n",
       "sku            300427\n",
       "groupid         68282\n",
       "brand            2094\n",
       "color           54403\n",
       "sizing           2646\n",
       "category           39\n",
       "subcategory       287\n",
       "price           45473\n",
       "date              216\n",
       "dtype: int64"
      ]
     },
     "execution_count": 46,
     "metadata": {},
     "output_type": "execute_result"
    }
   ],
   "source": [
    "df_rp.nunique()"
   ]
  },
  {
   "cell_type": "code",
   "execution_count": 47,
   "metadata": {},
   "outputs": [
    {
     "data": {
      "text/plain": [
       "store                0\n",
       "title                0\n",
       "sku                 23\n",
       "groupid              6\n",
       "brand                0\n",
       "color             3197\n",
       "sizing              20\n",
       "category             0\n",
       "subcategory    1072345\n",
       "price                0\n",
       "date                 0\n",
       "dtype: int64"
      ]
     },
     "execution_count": 47,
     "metadata": {},
     "output_type": "execute_result"
    }
   ],
   "source": [
    "df_rp.isnull().sum()"
   ]
  },
  {
   "cell_type": "code",
   "execution_count": 48,
   "metadata": {},
   "outputs": [
    {
     "data": {
      "text/plain": [
       "array([0, 1, 2, 3, 4, 5])"
      ]
     },
     "execution_count": 48,
     "metadata": {},
     "output_type": "execute_result"
    }
   ],
   "source": [
    "df_rp['store'].unique()"
   ]
  },
  {
   "cell_type": "markdown",
   "metadata": {},
   "source": [
    "## <font color=\"deeppink\"> amazon_beauty_reviews </font>"
   ]
  },
  {
   "cell_type": "markdown",
   "metadata": {},
   "source": [
    "Las columnas presentadas en este archivo son:\n",
    "\n",
    "|CAMPO   |TIPO   |DESCRIPCION   |\n",
    "|---|---|---|\n",
    "|title |STRING |El nombre del producto|\n",
    "brand |STRING |El nombre de la marca.\n",
    "rank |FLOAT |El rango del producto en la categoría Belleza.\n",
    "asin |STRING |El ID del producto\n",
    "description  |LIST |La descripción del producto.\n",
    "also_view |LIST |Productos relacionados que vieron otros clientes.\n",
    "also_buy |LIST |Productos relacionados que compraron otros clientes.\n",
    "price |FLOAT |El precio del producto en USD\n",
    "similar_item |LIST |Tabla de productos similares."
   ]
  },
  {
   "cell_type": "code",
   "execution_count": 49,
   "metadata": {},
   "outputs": [
    {
     "data": {
      "text/html": [
       "<div>\n",
       "<style scoped>\n",
       "    .dataframe tbody tr th:only-of-type {\n",
       "        vertical-align: middle;\n",
       "    }\n",
       "\n",
       "    .dataframe tbody tr th {\n",
       "        vertical-align: top;\n",
       "    }\n",
       "\n",
       "    .dataframe thead th {\n",
       "        text-align: right;\n",
       "    }\n",
       "</style>\n",
       "<table border=\"1\" class=\"dataframe\">\n",
       "  <thead>\n",
       "    <tr style=\"text-align: right;\">\n",
       "      <th></th>\n",
       "      <th>title</th>\n",
       "      <th>brand</th>\n",
       "      <th>rank</th>\n",
       "      <th>asin</th>\n",
       "      <th>description</th>\n",
       "      <th>also_view</th>\n",
       "      <th>also_buy</th>\n",
       "      <th>price</th>\n",
       "      <th>similar_item</th>\n",
       "    </tr>\n",
       "  </thead>\n",
       "  <tbody>\n",
       "    <tr>\n",
       "      <th>0</th>\n",
       "      <td>Workout Headphones by Arena Essentials</td>\n",
       "      <td>HarperCollins</td>\n",
       "      <td>3235148.0</td>\n",
       "      <td>0061073717</td>\n",
       "      <td>NaN</td>\n",
       "      <td>NaN</td>\n",
       "      <td>NaN</td>\n",
       "      <td>NaN</td>\n",
       "      <td>NaN</td>\n",
       "    </tr>\n",
       "    <tr>\n",
       "      <th>1</th>\n",
       "      <td>Black Diamond</td>\n",
       "      <td>Swedish Beauty</td>\n",
       "      <td>1462563.0</td>\n",
       "      <td>0143026860</td>\n",
       "      <td>['This is the NEW PURPLE BOTTLE that just came...</td>\n",
       "      <td>['B000LXTNMW']</td>\n",
       "      <td>NaN</td>\n",
       "      <td>NaN</td>\n",
       "      <td>NaN</td>\n",
       "    </tr>\n",
       "    <tr>\n",
       "      <th>2</th>\n",
       "      <td>12 Pc BLUE HEAVEN KAJAL\"HERBAL kajal With VITA...</td>\n",
       "      <td>BLUE HEAVE</td>\n",
       "      <td>100425.0</td>\n",
       "      <td>014789302X</td>\n",
       "      <td>['A brand-new, unused, unopened, undamaged ite...</td>\n",
       "      <td>['B00OWT3W28', 'B0796RMSV8', 'B010E1X15K', 'B0...</td>\n",
       "      <td>['B00OWT3W28', 'B010E1X15K', 'B0796RMSV8', 'B0...</td>\n",
       "      <td>6.45</td>\n",
       "      <td>NaN</td>\n",
       "    </tr>\n",
       "  </tbody>\n",
       "</table>\n",
       "</div>"
      ],
      "text/plain": [
       "                                               title           brand  \\\n",
       "0             Workout Headphones by Arena Essentials   HarperCollins   \n",
       "1                                      Black Diamond  Swedish Beauty   \n",
       "2  12 Pc BLUE HEAVEN KAJAL\"HERBAL kajal With VITA...      BLUE HEAVE   \n",
       "\n",
       "        rank        asin                                        description  \\\n",
       "0  3235148.0  0061073717                                                NaN   \n",
       "1  1462563.0  0143026860  ['This is the NEW PURPLE BOTTLE that just came...   \n",
       "2   100425.0  014789302X  ['A brand-new, unused, unopened, undamaged ite...   \n",
       "\n",
       "                                           also_view  \\\n",
       "0                                                NaN   \n",
       "1                                     ['B000LXTNMW']   \n",
       "2  ['B00OWT3W28', 'B0796RMSV8', 'B010E1X15K', 'B0...   \n",
       "\n",
       "                                            also_buy  price similar_item  \n",
       "0                                                NaN    NaN          NaN  \n",
       "1                                                NaN    NaN          NaN  \n",
       "2  ['B00OWT3W28', 'B010E1X15K', 'B0796RMSV8', 'B0...   6.45          NaN  "
      ]
     },
     "execution_count": 49,
     "metadata": {},
     "output_type": "execute_result"
    }
   ],
   "source": [
    "df_ab.head(3)"
   ]
  },
  {
   "cell_type": "code",
   "execution_count": 50,
   "metadata": {},
   "outputs": [
    {
     "data": {
      "text/plain": [
       "(32711, 9)"
      ]
     },
     "execution_count": 50,
     "metadata": {},
     "output_type": "execute_result"
    }
   ],
   "source": [
    "df_ab.shape"
   ]
  },
  {
   "cell_type": "code",
   "execution_count": 51,
   "metadata": {},
   "outputs": [
    {
     "data": {
      "text/plain": [
       "title           32112\n",
       "brand            7819\n",
       "rank            31763\n",
       "asin            32307\n",
       "description     13602\n",
       "also_view        7835\n",
       "also_buy         6465\n",
       "price            3509\n",
       "similar_item     1301\n",
       "dtype: int64"
      ]
     },
     "execution_count": 51,
     "metadata": {},
     "output_type": "execute_result"
    }
   ],
   "source": [
    "df_ab.nunique()"
   ]
  },
  {
   "cell_type": "markdown",
   "metadata": {},
   "source": [
    "## <font color=\"deeppink\"> UK_retail_transactions </font>"
   ]
  },
  {
   "cell_type": "markdown",
   "metadata": {},
   "source": [
    "Conjunto de datos de transacciones de un minorista en línea con sede en el Reino Unido, de 2009 a 2011. La empresa principalmente vende artículos de regalo únicos para todas las ocasiones. Muchos clientes de la empresa son mayoristas.\n",
    "\n",
    "~ 1 millón de filas y 8 columnas. Tamaño: ~ 15 MB comprimido, ~ 100 MB descomprimido. "
   ]
  },
  {
   "cell_type": "code",
   "execution_count": null,
   "metadata": {},
   "outputs": [],
   "source": []
  }
 ],
 "metadata": {
  "kernelspec": {
   "display_name": "Python 3",
   "language": "python",
   "name": "python3"
  },
  "language_info": {
   "codemirror_mode": {
    "name": "ipython",
    "version": 3
   },
   "file_extension": ".py",
   "mimetype": "text/x-python",
   "name": "python",
   "nbconvert_exporter": "python",
   "pygments_lexer": "ipython3",
   "version": "3.6.9"
  }
 },
 "nbformat": 4,
 "nbformat_minor": 2
}
