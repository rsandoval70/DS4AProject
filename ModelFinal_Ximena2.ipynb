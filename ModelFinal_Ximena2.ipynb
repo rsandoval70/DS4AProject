{
 "cells": [
  {
   "cell_type": "markdown",
   "metadata": {},
   "source": [
    "# DS4A / COLOMBIA 4.0 \n",
    "\n",
    "# Topic: Consumer behavior on e-Commerce\n",
    "\n",
    "Data science for the digital future\n",
    "\n",
    "- Ximena Rios Cotazo\n",
    "\n",
    "- Ramon Manuel Sandoval \n",
    "\n",
    "- Luisa Maria Carabali\n",
    "\n",
    "- Alejandro Camargo Garcia\n",
    "\n",
    "- Cristian Sarmiento\n",
    "\n",
    "- Hector Melo\n"
   ]
  },
  {
   "cell_type": "markdown",
   "metadata": {},
   "source": [
    "## E-Commerce \n",
    "\n",
    "This is a Brazilian ecommerce public dataset of orders made at Olist Store. The dataset has information of 100k orders from 2016 to 2018 made at multiple marketplaces in Brazil. Its features allows viewing an order from multiple dimensions: from order status, price, payment and freight performance to customer location, product attributes and finally reviews written by customers. We also released a geolocation dataset that relates Brazilian zip codes to lat/lng coordinates.\n",
    "\n",
    "This is real commercial data, it has been anonymised, and references to the companies and partners in the review text have been replaced with the names of Game of Thrones great houses.\n",
    "\n",
    "\n",
    "## Context\n",
    "\n",
    "This dataset was generously provided by Olist, the largest department store in Brazilian marketplaces. Olist connects small businesses from all over Brazil to channels without hassle and with a single contract. Those merchants are able to sell their products through the Olist Store and ship them directly to the customers using Olist logistics partners. See more on our website: www.olist.com\n",
    "\n",
    "After a customer purchases the product from Olist Store a seller gets notified to fulfill that order. Once the customer receives the product, or the estimated delivery date is due, the customer gets a satisfaction survey by email where he can give a note for the purchase experience and write down some comments.\n",
    "\n",
    "Taken from:[Kaggle](https://www.kaggle.com/olistbr/brazilian-ecommerce?select=olist_geolocation_dataset.csv )"
   ]
  },
  {
   "cell_type": "markdown",
   "metadata": {},
   "source": [
    "## Topic: Consumer behavior on E-Commerce\n",
    "\n",
    "## Research question\n",
    "\n",
    "What aspects of consumers’ online behavior is useful for businesses to better understand their customers and predict consumer trends, spending habits, variables related to the shopping? \n",
    "\n",
    "## Objectives: \n",
    "\n",
    "-\tData understanding and cleaning\n",
    "-\tAnalysis and modeling \n",
    "-\tBuild prediction models \n",
    "-\tBuild dashboards to visualize the insight\n",
    "\n",
    "## Description of the relationship between datasets:\n",
    "\n",
    "<img src=\"VisualData.png\">\n",
    "\n",
    "\n",
    "\n"
   ]
  },
  {
   "cell_type": "markdown",
   "metadata": {},
   "source": [
    "## Requirements"
   ]
  },
  {
   "cell_type": "code",
   "execution_count": 1,
   "metadata": {},
   "outputs": [],
   "source": [
    "import os\n",
    "from scipy import stats\n",
    "import statsmodels.formula.api as sfm\n",
    "from statsmodels.formula.api import ols\n",
    "import statsmodels.api as sm\n",
    "import sklearn.metrics as Metrics"
   ]
  },
  {
   "cell_type": "code",
   "execution_count": 2,
   "metadata": {},
   "outputs": [],
   "source": [
    "# Ignore user warnings\n",
    "import warnings\n",
    "warnings.simplefilter(\"ignore\", UserWarning)\n",
    "\n",
    "# Load relevant packages\n",
    "import pandas as pd\n",
    "import numpy as np\n",
    "import scipy\n",
    "import matplotlib.pyplot as plt\n",
    "import seaborn as sns\n",
    "sns.set_style('darkgrid')\n",
    "import statsmodels.api as sm\n",
    "import statsmodels.formula.api as smf\n",
    "import pylab\n",
    "\n",
    "%matplotlib inline\n",
    "plt.style.use('ggplot')"
   ]
  },
  {
   "cell_type": "code",
   "execution_count": 3,
   "metadata": {},
   "outputs": [],
   "source": [
    "from sklearn.model_selection import train_test_split\n",
    "# from sklearn.preprocessing import Imputer\n",
    "from sklearn.impute import SimpleImputer\n",
    "from sklearn.metrics import mean_squared_error as mse\n",
    "from sklearn.linear_model import LinearRegression"
   ]
  },
  {
   "cell_type": "code",
   "execution_count": 4,
   "metadata": {},
   "outputs": [],
   "source": [
    "ruta=os.getcwd()+'/data/'"
   ]
  },
  {
   "cell_type": "code",
   "execution_count": 5,
   "metadata": {},
   "outputs": [],
   "source": [
    "customer = pd.read_csv(ruta+'olist_customers_dataset.csv', delimiter=',') \n",
    "order_items=pd.read_csv(ruta+'olist_order_items_dataset.csv', delimiter=',') \n",
    "orders=pd.read_csv(ruta+'olist_orders_dataset.csv', delimiter=',') \n",
    "products=pd.read_csv(ruta+'olist_products_dataset.csv', delimiter=',') \n",
    "order_payments=pd.read_csv(ruta+'olist_order_payments_dataset.csv', delimiter=',')\n",
    "reviews=pd.read_csv(ruta+'olist_order_reviews_dataset.csv', delimiter=',')\n",
    "order_items=pd.read_csv(ruta+'olist_order_items_dataset.csv', delimiter=',') \n",
    "sellers=pd.read_csv(ruta+'olist_sellers_dataset.csv', delimiter=',') \n",
    "order_reviews=pd.read_csv(ruta+'olist_order_reviews_dataset.csv', delimiter=',') \n"
   ]
  },
  {
   "cell_type": "markdown",
   "metadata": {},
   "source": [
    "# INICIO XIMENA\n",
    "\n",
    "In this part we try to analyze which is the trend of online shopping by city.\n",
    "\n",
    "For this analysis we generate a dataset called ```df```, which is obtained by crossing the fields: ```order_id,customer_id```, ```customer_unique_id```, ```ustomer_city,customer_state```, ```order_item_id```,  ```product_id```, ```product_category_name```   of the dataframes: ```olist_customers_dataset```, ```olist_order_items_dataset```, ```olist_orders_dataset```, ```olist_products_dataset```. For this we use pyhton's ```merge``` function:"
   ]
  },
  {
   "cell_type": "code",
   "execution_count": 6,
   "metadata": {},
   "outputs": [],
   "source": [
    "# order_id:Identificador único del pedido. customer_id: Id del cliente.customer_unique_id: Identificador único de un cliente.\n",
    "df=orders[['order_id','customer_id','order_purchase_timestamp','order_status']] \n",
    "aux=customer[['customer_id','customer_city','customer_state']] \n",
    "df=pd.merge(df, aux, how=\"left\", left_on=\"customer_id\", right_on=\"customer_id\")"
   ]
  },
  {
   "cell_type": "code",
   "execution_count": 7,
   "metadata": {},
   "outputs": [
    {
     "name": "stderr",
     "output_type": "stream",
     "text": [
      "/usr/local/lib/python3.6/dist-packages/ipykernel_launcher.py:3: SettingWithCopyWarning: \n",
      "A value is trying to be set on a copy of a slice from a DataFrame.\n",
      "Try using .loc[row_indexer,col_indexer] = value instead\n",
      "\n",
      "See the caveats in the documentation: https://pandas.pydata.org/pandas-docs/stable/user_guide/indexing.html#returning-a-view-versus-a-copy\n",
      "  This is separate from the ipykernel package so we can avoid doing imports until\n"
     ]
    }
   ],
   "source": [
    "#product_id: Identificador único del producto.order_item_id: identifica el número de artículosincluido en el mismo pedido.\n",
    "aux=order_items[['order_id','order_item_id','product_id','price','freight_value']] \n",
    "aux['total_price']=aux['price'] + aux['freight_value']\n",
    "df=pd.merge(df, aux, how=\"left\", left_on=\"order_id\", right_on=\"order_id\")"
   ]
  },
  {
   "cell_type": "code",
   "execution_count": 8,
   "metadata": {},
   "outputs": [
    {
     "name": "stderr",
     "output_type": "stream",
     "text": [
      "/usr/local/lib/python3.6/dist-packages/ipykernel_launcher.py:3: SettingWithCopyWarning: \n",
      "A value is trying to be set on a copy of a slice from a DataFrame.\n",
      "Try using .loc[row_indexer,col_indexer] = value instead\n",
      "\n",
      "See the caveats in the documentation: https://pandas.pydata.org/pandas-docs/stable/user_guide/indexing.html#returning-a-view-versus-a-copy\n",
      "  This is separate from the ipykernel package so we can avoid doing imports until\n"
     ]
    }
   ],
   "source": [
    "#product_category_name:Categoría raíz del producto, en portugués\n",
    "aux=products[['product_id','product_category_name','product_photos_qty','product_weight_g','product_length_cm','product_height_cm','product_width_cm']] \n",
    "aux['product_vol']=aux['product_length_cm'] * aux['product_height_cm'] * aux['product_width_cm']\n",
    "df=pd.merge(df, aux, how=\"left\", left_on=\"product_id\", right_on=\"product_id\")"
   ]
  },
  {
   "cell_type": "code",
   "execution_count": 9,
   "metadata": {},
   "outputs": [],
   "source": [
    "#review_score:puntuacion entre 1 y 5\n",
    "aux=order_reviews[['order_id','review_score']] \n",
    "df=pd.merge(df, aux, how=\"left\", left_on=\"order_id\", right_on=\"order_id\")"
   ]
  },
  {
   "cell_type": "markdown",
   "metadata": {},
   "source": [
    "Incluimos la informacion del tiempo"
   ]
  },
  {
   "cell_type": "code",
   "execution_count": 10,
   "metadata": {},
   "outputs": [],
   "source": [
    "df['ano_mes']=df['order_purchase_timestamp'].str.split('-', expand=True)[0]+\"-\"+df['order_purchase_timestamp'].str.split('-', expand=True)[1]\n",
    "df['ano_mes_dt'] = pd.to_datetime(df['ano_mes'])\n",
    "df['ano_mes_dia'] = df['order_purchase_timestamp'].str.split(' ', expand=True)[0]\n",
    "df['ano_mes_dia_dt'] = pd.to_datetime(df['ano_mes_dia'])\n",
    "df['fecha'] = pd.to_datetime(df['order_purchase_timestamp'])\n",
    "df['mes']= df['fecha'].dt.month\n",
    "df['year']=df['fecha'].dt.year\n",
    "df.ano_mes = df.ano_mes.astype('category')\n",
    "df['month_codes']= df.ano_mes.cat.codes"
   ]
  },
  {
   "cell_type": "markdown",
   "metadata": {},
   "source": [
    "The states are by [ISO code](https://es.wikipedia.org/wiki/Anexo:Estados_de_Brasil), we create an dictionary (```estados```) with these codes and the corresponding name, and another dictionary (```regiones```) with the regions for each state, then we add two columns to the dataframe, one with the name of the state and the other with the region, we do this for a more comfortable viewing."
   ]
  },
  {
   "cell_type": "code",
   "execution_count": 11,
   "metadata": {},
   "outputs": [],
   "source": [
    "estados= {'AC':'Acre', 'AL':'Alagoas', 'AM':'Amazonas', 'AP':'Amapá', 'BA':'Bahía', 'CE':'Ceará',\n",
    "          'DF':'Distrito Federal', 'ES':'Espírito Santo', 'GO':'Goiás', 'MA':'Maranhão', 'MG':'Minas Gerais',\n",
    "          'MS':'Mato Grosso del Sur', 'MT':'Mato Grosso', 'PA':'Pará', 'PB':'Paraíba', 'PE':'Pernambuco',\n",
    "          'PI':'Piauí', 'PR':'Paraná', 'RJ':'Río de Janeiro', 'RN':'Río Grande del Norte', 'RO':'Rondonia',\n",
    "          'RR':'Roraima', 'RS':'Río Grande del Sur', 'SC':'Santa Catarina', 'SE':'Sergipe', 'SP':'São Paulo', 'TO':'Tocantins'}\n",
    "df['name_state']=df['customer_state']\n",
    "for i in range(len(estados)):\n",
    "    df[\"name_state\"]=df[\"name_state\"].str.replace(list(estados.keys())[i],list(estados.values())[i])"
   ]
  },
  {
   "cell_type": "code",
   "execution_count": 12,
   "metadata": {},
   "outputs": [],
   "source": [
    "region = [\"Norte\",\"Sur\",\"Sudeste\",\"Nordeste\",\"CentroOeste\"]\n",
    "regiones= {'AC':'Norte', 'AL':'Nordeste', 'AM':'Norte', 'AP':'Norte', 'BA':'Nordeste',\n",
    "           'CE':'Nordeste', 'DF':'CentroOeste', 'ES':'Sudeste', 'GO':'CentroOeste',\n",
    "           'MA':'Nordeste', 'MG':'Sudeste', 'MS':'CentroOeste', 'MT':'CentroOeste',\n",
    "           'PA':'Norte', 'PB':'Nordeste', 'PE':'Nordeste', 'PI':'Nordeste', 'PR':'Sur',\n",
    "           'RJ':'Sudeste', 'RN':'Nordeste', 'RO':'Norte', 'RR':'Norte', 'RS':'Sur',\n",
    "           'SC':'Sur', 'SE':'Nordeste', 'SP':'Sudeste', 'TO':'Norte'}\n",
    "df['regions']=df['customer_state']\n",
    "for i in range(len(estados)):\n",
    "    df[\"regions\"]=df[\"regions\"].str.replace(list(regiones.keys())[i],list(regiones.values())[i])"
   ]
  },
  {
   "cell_type": "code",
   "execution_count": 13,
   "metadata": {},
   "outputs": [
    {
     "name": "stdout",
     "output_type": "stream",
     "text": [
      "<class 'pandas.core.frame.DataFrame'>\n",
      "Int64Index: 114100 entries, 0 to 114099\n",
      "Data columns (total 29 columns):\n",
      " #   Column                    Non-Null Count   Dtype         \n",
      "---  ------                    --------------   -----         \n",
      " 0   order_id                  114100 non-null  object        \n",
      " 1   customer_id               114100 non-null  object        \n",
      " 2   order_purchase_timestamp  114100 non-null  object        \n",
      " 3   order_status              114100 non-null  object        \n",
      " 4   customer_city             114100 non-null  object        \n",
      " 5   customer_state            114100 non-null  object        \n",
      " 6   order_item_id             113322 non-null  float64       \n",
      " 7   product_id                113322 non-null  object        \n",
      " 8   price                     113322 non-null  float64       \n",
      " 9   freight_value             113322 non-null  float64       \n",
      " 10  total_price               113322 non-null  float64       \n",
      " 11  product_category_name     111710 non-null  object        \n",
      " 12  product_photos_qty        111710 non-null  float64       \n",
      " 13  product_weight_g          113304 non-null  float64       \n",
      " 14  product_length_cm         113304 non-null  float64       \n",
      " 15  product_height_cm         113304 non-null  float64       \n",
      " 16  product_width_cm          113304 non-null  float64       \n",
      " 17  product_vol               113304 non-null  float64       \n",
      " 18  review_score              114100 non-null  int64         \n",
      " 19  ano_mes                   114100 non-null  category      \n",
      " 20  ano_mes_dt                114100 non-null  datetime64[ns]\n",
      " 21  ano_mes_dia               114100 non-null  object        \n",
      " 22  ano_mes_dia_dt            114100 non-null  datetime64[ns]\n",
      " 23  fecha                     114100 non-null  datetime64[ns]\n",
      " 24  mes                       114100 non-null  int64         \n",
      " 25  year                      114100 non-null  int64         \n",
      " 26  month_codes               114100 non-null  int8          \n",
      " 27  name_state                114100 non-null  object        \n",
      " 28  regions                   114100 non-null  category      \n",
      "dtypes: category(2), datetime64[ns](3), float64(10), int64(3), int8(1), object(10)\n",
      "memory usage: 23.8+ MB\n"
     ]
    }
   ],
   "source": [
    "df.regions  = df.regions .astype(pd.api.types.CategoricalDtype(categories=[\"Norte\",\"Sur\",\"Sudeste\",\"Nordeste\",\"CentroOeste\"]))\n",
    "df.info()"
   ]
  },
  {
   "cell_type": "markdown",
   "metadata": {},
   "source": [
    "# Total average price vs timeline \n",
    "\n",
    "### Data Exploration\n"
   ]
  },
  {
   "cell_type": "code",
   "execution_count": 14,
   "metadata": {},
   "outputs": [
    {
     "data": {
      "text/html": [
       "<div>\n",
       "<style scoped>\n",
       "    .dataframe tbody tr th:only-of-type {\n",
       "        vertical-align: middle;\n",
       "    }\n",
       "\n",
       "    .dataframe tbody tr th {\n",
       "        vertical-align: top;\n",
       "    }\n",
       "\n",
       "    .dataframe thead th {\n",
       "        text-align: right;\n",
       "    }\n",
       "</style>\n",
       "<table border=\"1\" class=\"dataframe\">\n",
       "  <thead>\n",
       "    <tr style=\"text-align: right;\">\n",
       "      <th></th>\n",
       "      <th>price_mean</th>\n",
       "    </tr>\n",
       "    <tr>\n",
       "      <th>product_id</th>\n",
       "      <th></th>\n",
       "    </tr>\n",
       "  </thead>\n",
       "  <tbody>\n",
       "    <tr>\n",
       "      <th>00066f42aeeb9f3007548bb9d3f33c38</th>\n",
       "      <td>101.65</td>\n",
       "    </tr>\n",
       "    <tr>\n",
       "      <th>00088930e925c41fd95ebfe695fd2655</th>\n",
       "      <td>129.90</td>\n",
       "    </tr>\n",
       "  </tbody>\n",
       "</table>\n",
       "</div>"
      ],
      "text/plain": [
       "                                  price_mean\n",
       "product_id                                  \n",
       "00066f42aeeb9f3007548bb9d3f33c38      101.65\n",
       "00088930e925c41fd95ebfe695fd2655      129.90"
      ]
     },
     "execution_count": 14,
     "metadata": {},
     "output_type": "execute_result"
    }
   ],
   "source": [
    "# Calculamos el precio promedio por producto y agregamos la nueva columna\n",
    "aux=df.groupby('product_id').agg({'price':'mean'}).rename(columns={'price':'price_mean'})\n",
    "df=pd.merge(df, aux, how=\"left\", left_on=\"product_id\", right_on=\"product_id\")\n",
    "aux.head(2)"
   ]
  },
  {
   "cell_type": "code",
   "execution_count": 15,
   "metadata": {},
   "outputs": [
    {
     "name": "stdout",
     "output_type": "stream",
     "text": [
      "The dataframe has  32952  products\n"
     ]
    },
    {
     "data": {
      "text/html": [
       "<div>\n",
       "<style scoped>\n",
       "    .dataframe tbody tr th:only-of-type {\n",
       "        vertical-align: middle;\n",
       "    }\n",
       "\n",
       "    .dataframe tbody tr th {\n",
       "        vertical-align: top;\n",
       "    }\n",
       "\n",
       "    .dataframe thead th {\n",
       "        text-align: right;\n",
       "    }\n",
       "</style>\n",
       "<table border=\"1\" class=\"dataframe\">\n",
       "  <thead>\n",
       "    <tr style=\"text-align: right;\">\n",
       "      <th></th>\n",
       "      <th>product_id</th>\n",
       "      <th>total_product_sales</th>\n",
       "    </tr>\n",
       "  </thead>\n",
       "  <tbody>\n",
       "    <tr>\n",
       "      <th>0</th>\n",
       "      <td>aca2eb7d00ea1a7b8ebd4e68314663af</td>\n",
       "      <td>527</td>\n",
       "    </tr>\n",
       "    <tr>\n",
       "      <th>1</th>\n",
       "      <td>99a4788cb24856965c36a24e339b6058</td>\n",
       "      <td>491</td>\n",
       "    </tr>\n",
       "  </tbody>\n",
       "</table>\n",
       "</div>"
      ],
      "text/plain": [
       "                         product_id  total_product_sales\n",
       "0  aca2eb7d00ea1a7b8ebd4e68314663af                  527\n",
       "1  99a4788cb24856965c36a24e339b6058                  491"
      ]
     },
     "execution_count": 15,
     "metadata": {},
     "output_type": "execute_result"
    }
   ],
   "source": [
    "# Generamos un df con el total de ventas por producto y una lista ordenada de productos en forma descendente\n",
    "df_PS=df.groupby('product_id').size().to_frame().rename(columns={0:'total_product_sales'}).sort_values('total_product_sales', ascending=False).reset_index()\n",
    "listaProductos=list(df_PS[\"product_id\"]) #lista ordenada de productos en forma descendente\n",
    "print(\"The dataframe has \",len(df['product_id'].unique()),\" products\")\n",
    "df_PS.head(2)"
   ]
  },
  {
   "cell_type": "code",
   "execution_count": 16,
   "metadata": {},
   "outputs": [
    {
     "name": "stdout",
     "output_type": "stream",
     "text": [
      "Precios para este producto:  [ 69.9  75.  109.9  89.9]\n",
      "['Categoria: moveis_decoracao']\n"
     ]
    },
    {
     "data": {
      "image/png": "[encoded data removed]",
      "text/plain": [
       "<Figure size 1152x288 with 1 Axes>"
      ]
     },
     "metadata": {
      "needs_background": "light"
     },
     "output_type": "display_data"
    },
    {
     "data": {
      "image/png": "[encoded data removed]",
      "text/plain": [
       "<Figure size 1152x288 with 1 Axes>"
      ]
     },
     "metadata": {
      "needs_background": "light"
     },
     "output_type": "display_data"
    },
    {
     "data": {
      "image/png": "[encoded data removed]",
      "text/plain": [
       "<Figure size 1152x288 with 1 Axes>"
      ]
     },
     "metadata": {
      "needs_background": "light"
     },
     "output_type": "display_data"
    },
    {
     "data": {
      "image/png": "[encoded data removed]",
      "text/plain": [
       "<Figure size 1152x288 with 1 Axes>"
      ]
     },
     "metadata": {
      "needs_background": "light"
     },
     "output_type": "display_data"
    },
    {
     "data": {
      "image/png": "[encoded data removed]",
      "text/plain": [
       "<Figure size 1152x288 with 1 Axes>"
      ]
     },
     "metadata": {
      "needs_background": "light"
     },
     "output_type": "display_data"
    }
   ],
   "source": [
    "# La misma grafica pero para un solo mes\n",
    "item=0 #numero entre 0 y 32951 para los diferentes productos\n",
    "m=3   #numero entre 1 y 12 para los diferentes meses\n",
    "aux=df[(df[\"product_id\"]==listaProductos[item])]\n",
    "#aux=aux[(aux[\"mes\"]==m)]  #comentar esta linea para graficar todos los meses \n",
    "aux2=aux.groupby([\"fecha\",'order_id']).size().to_frame().rename(columns={0:'product_sales'}).sort_values('fecha', ascending=True).reset_index()\n",
    "aux=pd.merge(aux, aux2, how=\"left\", left_on=\"fecha\", right_on=\"fecha\")\n",
    "\n",
    "plt.figure(figsize=(16, 4))\n",
    "ax=sns.scatterplot(x='fecha', y='price', data=aux)\n",
    "ax.set_title('Precio vs Tiempo (producto: '+listaProductos[item]+')')\n",
    "\n",
    "plt.figure(figsize=(16, 4))\n",
    "ax=sns.scatterplot(x='fecha', y='product_sales', data=aux)\n",
    "ax.set_title('Ventas vs Tiempo (producto: '+listaProductos[item]+')')\n",
    "\n",
    "plt.figure(figsize=(16, 4))\n",
    "ax=sns.scatterplot(x='fecha', y='freight_value', data=aux)\n",
    "ax.set_title('Flete vs Tiempo (producto: '+listaProductos[item]+')')\n",
    "\n",
    "plt.figure(figsize=(16, 4))\n",
    "ax=sns.scatterplot(x='fecha', y='customer_state', data=aux)\n",
    "ax.set_title('Estado vs Tiempo (producto: '+listaProductos[item]+')')\n",
    "\n",
    "plt.figure(figsize=(16, 4))\n",
    "ax=sns.scatterplot(x='fecha', y='review_score', data=aux)\n",
    "ax.set_title('Review vs Tiempo (producto: '+listaProductos[item]+')')\n",
    "\n",
    "print(\"Precios para este producto: \",aux.price.unique())\n",
    "print(\"Categoria: \"+aux.product_category_name.unique())"
   ]
  },
  {
   "cell_type": "markdown",
   "metadata": {},
   "source": [
    "Construyamos un modelo lineal usando las diferentes variables"
   ]
  },
  {
   "cell_type": "code",
   "execution_count": 17,
   "metadata": {},
   "outputs": [],
   "source": [
    "y = aux.price\n",
    "X = aux[['freight_value', 'product_sales','review_score']]\n",
    "X_entren, X_prueb, y_entren, y_prueb = train_test_split(X, y, test_size=0.33,random_state=42)"
   ]
  },
  {
   "cell_type": "code",
   "execution_count": 18,
   "metadata": {},
   "outputs": [],
   "source": [
    "modelo = LinearRegression().fit(X_entren, y_entren)"
   ]
  },
  {
   "cell_type": "code",
   "execution_count": 19,
   "metadata": {},
   "outputs": [
    {
     "name": "stdout",
     "output_type": "stream",
     "text": [
      "               0         1\n",
      "0  freight_value  0.123857\n",
      "1  product_sales  0.571380\n",
      "2   review_score  0.201525\n",
      "\n",
      "intercepto: 67.98033646682845\n",
      "r2: 0.025042299811068758\n"
     ]
    }
   ],
   "source": [
    "print(pd.DataFrame(zip(X_entren.columns, modelo.coef_)))\n",
    "print('\\nintercepto:', modelo.intercept_)\n",
    "print('r2:', modelo.score(X_prueb,y_prueb))"
   ]
  },
  {
   "cell_type": "code",
   "execution_count": 20,
   "metadata": {},
   "outputs": [
    {
     "name": "stdout",
     "output_type": "stream",
     "text": [
      "mse 14.731748997844369\n"
     ]
    }
   ],
   "source": [
    "pred = modelo.predict(X_prueb)\n",
    "print('mse', mse(pred, y_prueb))"
   ]
  },
  {
   "cell_type": "code",
   "execution_count": 21,
   "metadata": {},
   "outputs": [
    {
     "data": {
      "text/plain": [
       "<AxesSubplot:>"
      ]
     },
     "execution_count": 21,
     "metadata": {},
     "output_type": "execute_result"
    },
    {
     "data": {
      "image/png": "[encoded data removed]",
      "text/plain": [
       "<Figure size 432x288 with 2 Axes>"
      ]
     },
     "metadata": {
      "needs_background": "light"
     },
     "output_type": "display_data"
    }
   ],
   "source": [
    "corr =aux[['freight_value', 'product_sales']].corr()\n",
    "sns.heatmap(corr, center=0, annot=True)"
   ]
  },
  {
   "cell_type": "markdown",
   "metadata": {},
   "source": [
    "# Ventas vs timeline \n",
    "\n",
    "### Data Exploration\n"
   ]
  },
  {
   "cell_type": "code",
   "execution_count": 22,
   "metadata": {},
   "outputs": [
    {
     "name": "stdout",
     "output_type": "stream",
     "text": [
      "Precios para este producto:  [ 69.9  75.  109.9  89.9]\n",
      "['Categoria: moveis_decoracao']\n"
     ]
    },
    {
     "data": {
      "image/png": "[encoded data removed]",
      "text/plain": [
       "<Figure size 1152x288 with 1 Axes>"
      ]
     },
     "metadata": {
      "needs_background": "light"
     },
     "output_type": "display_data"
    }
   ],
   "source": [
    "# La misma grafica pero para un solo mes\n",
    "item=0 #numero entre 0 y 32951 para los diferentes productos\n",
    "m=3   #numero entre 1 y 12 para los diferentes meses\n",
    "aux=df[(df[\"product_id\"]==listaProductos[item])]\n",
    "#aux=aux[(aux[\"mes\"]==m)]  #comentar esta linea para graficar todos los meses \n",
    "aux2=aux.groupby([\"fecha\",'order_id']).size().to_frame().rename(columns={0:'product_sales'}).sort_values('fecha', ascending=True).reset_index()\n",
    "aux=pd.merge(aux, aux2, how=\"left\", left_on=\"fecha\", right_on=\"fecha\")\n",
    "\n",
    "plt.figure(figsize=(16, 4))\n",
    "ax=sns.scatterplot(x='fecha', y='product_sales', data=aux)\n",
    "ax.set_title('Ventas vs Tiempo (producto: '+listaProductos[item]+')')\n",
    "\n",
    "print(\"Precios para este producto: \",aux.price.unique())\n",
    "print(\"Categoria: \"+aux.product_category_name.unique())"
   ]
  },
  {
   "cell_type": "code",
   "execution_count": 23,
   "metadata": {},
   "outputs": [],
   "source": [
    "y = aux.product_sales\n",
    "X = aux[['freight_value', 'price','review_score']]\n",
    "X_entren, X_prueb, y_entren, y_prueb = train_test_split(X, y, test_size=0.33,random_state=42)"
   ]
  },
  {
   "cell_type": "code",
   "execution_count": 24,
   "metadata": {},
   "outputs": [],
   "source": [
    "modelo = LinearRegression().fit(X_entren, y_entren)"
   ]
  },
  {
   "cell_type": "code",
   "execution_count": 25,
   "metadata": {},
   "outputs": [
    {
     "name": "stdout",
     "output_type": "stream",
     "text": [
      "               0         1\n",
      "0  freight_value -0.006561\n",
      "1          price  0.022006\n",
      "2   review_score -0.131075\n",
      "\n",
      "intercepto: 0.47625334548551757\n",
      "r2: -0.00540104562226662\n"
     ]
    }
   ],
   "source": [
    "print(pd.DataFrame(zip(X_entren.columns, modelo.coef_)))\n",
    "print('\\nintercepto:', modelo.intercept_)\n",
    "print('r2:', modelo.score(X_prueb,y_prueb))"
   ]
  },
  {
   "cell_type": "code",
   "execution_count": 26,
   "metadata": {},
   "outputs": [
    {
     "name": "stdout",
     "output_type": "stream",
     "text": [
      "mse 0.34884852636616165\n"
     ]
    }
   ],
   "source": [
    "pred = modelo.predict(X_prueb)\n",
    "print('mse', mse(pred, y_prueb))"
   ]
  },
  {
   "cell_type": "code",
   "execution_count": 27,
   "metadata": {},
   "outputs": [
    {
     "data": {
      "text/plain": [
       "<AxesSubplot:>"
      ]
     },
     "execution_count": 27,
     "metadata": {},
     "output_type": "execute_result"
    },
    {
     "data": {
      "image/png": "[encoded data removed]",
      "text/plain": [
       "<Figure size 432x288 with 2 Axes>"
      ]
     },
     "metadata": {
      "needs_background": "light"
     },
     "output_type": "display_data"
    }
   ],
   "source": [
    "corr =aux[['freight_value', 'product_sales']].corr()\n",
    "sns.heatmap(corr, center=0, annot=True)"
   ]
  },
  {
   "cell_type": "markdown",
   "metadata": {},
   "source": [
    "# Total sales per month \n",
    "\n",
    "### Data Exploration\n",
    "Generamos una grafica de las ventas totales por mes"
   ]
  },
  {
   "cell_type": "code",
   "execution_count": 28,
   "metadata": {},
   "outputs": [
    {
     "ename": "KeyError",
     "evalue": "\"['codes'] not in index\"",
     "output_type": "error",
     "traceback": [
      "\u001b[0;31m---------------------------------------------------------------------------\u001b[0m",
      "\u001b[0;31mKeyError\u001b[0m                                  Traceback (most recent call last)",
      "\u001b[0;32m<ipython-input-28-0834849f3019>\u001b[0m in \u001b[0;36m<module>\u001b[0;34m\u001b[0m\n\u001b[1;32m      1\u001b[0m \u001b[0mplt\u001b[0m\u001b[0;34m.\u001b[0m\u001b[0mfigure\u001b[0m\u001b[0;34m(\u001b[0m\u001b[0mfigsize\u001b[0m\u001b[0;34m=\u001b[0m\u001b[0;34m(\u001b[0m\u001b[0;36m16\u001b[0m\u001b[0;34m,\u001b[0m \u001b[0;36m4\u001b[0m\u001b[0;34m)\u001b[0m\u001b[0;34m)\u001b[0m\u001b[0;34m\u001b[0m\u001b[0;34m\u001b[0m\u001b[0m\n\u001b[0;32m----> 2\u001b[0;31m \u001b[0maux\u001b[0m\u001b[0;34m=\u001b[0m\u001b[0mdf\u001b[0m\u001b[0;34m[\u001b[0m\u001b[0;34m[\u001b[0m\u001b[0;34m\"ano_mes_dt\"\u001b[0m\u001b[0;34m,\u001b[0m\u001b[0;34m\"codes\"\u001b[0m\u001b[0;34m]\u001b[0m\u001b[0;34m]\u001b[0m\u001b[0;34m\u001b[0m\u001b[0;34m\u001b[0m\u001b[0m\n\u001b[0m\u001b[1;32m      3\u001b[0m \u001b[0maux\u001b[0m\u001b[0;34m=\u001b[0m\u001b[0maux\u001b[0m\u001b[0;34m.\u001b[0m\u001b[0mgroupby\u001b[0m\u001b[0;34m(\u001b[0m\u001b[0;34m[\u001b[0m\u001b[0;34m\"ano_mes_dt\"\u001b[0m\u001b[0;34m,\u001b[0m\u001b[0;34m\"codes\"\u001b[0m\u001b[0;34m]\u001b[0m\u001b[0;34m)\u001b[0m\u001b[0;34m.\u001b[0m\u001b[0msize\u001b[0m\u001b[0;34m(\u001b[0m\u001b[0;34m)\u001b[0m\u001b[0;34m.\u001b[0m\u001b[0mto_frame\u001b[0m\u001b[0;34m(\u001b[0m\u001b[0;34m)\u001b[0m\u001b[0;34m.\u001b[0m\u001b[0mrename\u001b[0m\u001b[0;34m(\u001b[0m\u001b[0mcolumns\u001b[0m\u001b[0;34m=\u001b[0m\u001b[0;34m{\u001b[0m\u001b[0;36m0\u001b[0m\u001b[0;34m:\u001b[0m\u001b[0;34m'total_sales'\u001b[0m\u001b[0;34m}\u001b[0m\u001b[0;34m)\u001b[0m\u001b[0;34m.\u001b[0m\u001b[0msort_values\u001b[0m\u001b[0;34m(\u001b[0m\u001b[0;34m'total_sales'\u001b[0m\u001b[0;34m,\u001b[0m \u001b[0mascending\u001b[0m\u001b[0;34m=\u001b[0m\u001b[0;32mFalse\u001b[0m\u001b[0;34m)\u001b[0m\u001b[0;34m.\u001b[0m\u001b[0mreset_index\u001b[0m\u001b[0;34m(\u001b[0m\u001b[0;34m)\u001b[0m\u001b[0;34m\u001b[0m\u001b[0;34m\u001b[0m\u001b[0m\n\u001b[1;32m      4\u001b[0m \u001b[0max\u001b[0m\u001b[0;34m=\u001b[0m\u001b[0msns\u001b[0m\u001b[0;34m.\u001b[0m\u001b[0mscatterplot\u001b[0m\u001b[0;34m(\u001b[0m\u001b[0mx\u001b[0m\u001b[0;34m=\u001b[0m\u001b[0;34m'ano_mes_dt'\u001b[0m\u001b[0;34m,\u001b[0m \u001b[0my\u001b[0m\u001b[0;34m=\u001b[0m\u001b[0;34m'total_sales'\u001b[0m\u001b[0;34m,\u001b[0m \u001b[0mdata\u001b[0m\u001b[0;34m=\u001b[0m\u001b[0maux\u001b[0m\u001b[0;34m)\u001b[0m\u001b[0;34m\u001b[0m\u001b[0;34m\u001b[0m\u001b[0m\n\u001b[1;32m      5\u001b[0m \u001b[0;31m#plt.xticks(rotation=90)\u001b[0m\u001b[0;34m\u001b[0m\u001b[0;34m\u001b[0m\u001b[0;34m\u001b[0m\u001b[0m\n",
      "\u001b[0;32m~/.local/lib/python3.6/site-packages/pandas/core/frame.py\u001b[0m in \u001b[0;36m__getitem__\u001b[0;34m(self, key)\u001b[0m\n\u001b[1;32m   2910\u001b[0m             \u001b[0;32mif\u001b[0m \u001b[0mis_iterator\u001b[0m\u001b[0;34m(\u001b[0m\u001b[0mkey\u001b[0m\u001b[0;34m)\u001b[0m\u001b[0;34m:\u001b[0m\u001b[0;34m\u001b[0m\u001b[0;34m\u001b[0m\u001b[0m\n\u001b[1;32m   2911\u001b[0m                 \u001b[0mkey\u001b[0m \u001b[0;34m=\u001b[0m \u001b[0mlist\u001b[0m\u001b[0;34m(\u001b[0m\u001b[0mkey\u001b[0m\u001b[0;34m)\u001b[0m\u001b[0;34m\u001b[0m\u001b[0;34m\u001b[0m\u001b[0m\n\u001b[0;32m-> 2912\u001b[0;31m             \u001b[0mindexer\u001b[0m \u001b[0;34m=\u001b[0m \u001b[0mself\u001b[0m\u001b[0;34m.\u001b[0m\u001b[0mloc\u001b[0m\u001b[0;34m.\u001b[0m\u001b[0m_get_listlike_indexer\u001b[0m\u001b[0;34m(\u001b[0m\u001b[0mkey\u001b[0m\u001b[0;34m,\u001b[0m \u001b[0maxis\u001b[0m\u001b[0;34m=\u001b[0m\u001b[0;36m1\u001b[0m\u001b[0;34m,\u001b[0m \u001b[0mraise_missing\u001b[0m\u001b[0;34m=\u001b[0m\u001b[0;32mTrue\u001b[0m\u001b[0;34m)\u001b[0m\u001b[0;34m[\u001b[0m\u001b[0;36m1\u001b[0m\u001b[0;34m]\u001b[0m\u001b[0;34m\u001b[0m\u001b[0;34m\u001b[0m\u001b[0m\n\u001b[0m\u001b[1;32m   2913\u001b[0m \u001b[0;34m\u001b[0m\u001b[0m\n\u001b[1;32m   2914\u001b[0m         \u001b[0;31m# take() does not accept boolean indexers\u001b[0m\u001b[0;34m\u001b[0m\u001b[0;34m\u001b[0m\u001b[0;34m\u001b[0m\u001b[0m\n",
      "\u001b[0;32m~/.local/lib/python3.6/site-packages/pandas/core/indexing.py\u001b[0m in \u001b[0;36m_get_listlike_indexer\u001b[0;34m(self, key, axis, raise_missing)\u001b[0m\n\u001b[1;32m   1252\u001b[0m             \u001b[0mkeyarr\u001b[0m\u001b[0;34m,\u001b[0m \u001b[0mindexer\u001b[0m\u001b[0;34m,\u001b[0m \u001b[0mnew_indexer\u001b[0m \u001b[0;34m=\u001b[0m \u001b[0max\u001b[0m\u001b[0;34m.\u001b[0m\u001b[0m_reindex_non_unique\u001b[0m\u001b[0;34m(\u001b[0m\u001b[0mkeyarr\u001b[0m\u001b[0;34m)\u001b[0m\u001b[0;34m\u001b[0m\u001b[0;34m\u001b[0m\u001b[0m\n\u001b[1;32m   1253\u001b[0m \u001b[0;34m\u001b[0m\u001b[0m\n\u001b[0;32m-> 1254\u001b[0;31m         \u001b[0mself\u001b[0m\u001b[0;34m.\u001b[0m\u001b[0m_validate_read_indexer\u001b[0m\u001b[0;34m(\u001b[0m\u001b[0mkeyarr\u001b[0m\u001b[0;34m,\u001b[0m \u001b[0mindexer\u001b[0m\u001b[0;34m,\u001b[0m \u001b[0maxis\u001b[0m\u001b[0;34m,\u001b[0m \u001b[0mraise_missing\u001b[0m\u001b[0;34m=\u001b[0m\u001b[0mraise_missing\u001b[0m\u001b[0;34m)\u001b[0m\u001b[0;34m\u001b[0m\u001b[0;34m\u001b[0m\u001b[0m\n\u001b[0m\u001b[1;32m   1255\u001b[0m         \u001b[0;32mreturn\u001b[0m \u001b[0mkeyarr\u001b[0m\u001b[0;34m,\u001b[0m \u001b[0mindexer\u001b[0m\u001b[0;34m\u001b[0m\u001b[0;34m\u001b[0m\u001b[0m\n\u001b[1;32m   1256\u001b[0m \u001b[0;34m\u001b[0m\u001b[0m\n",
      "\u001b[0;32m~/.local/lib/python3.6/site-packages/pandas/core/indexing.py\u001b[0m in \u001b[0;36m_validate_read_indexer\u001b[0;34m(self, key, indexer, axis, raise_missing)\u001b[0m\n\u001b[1;32m   1302\u001b[0m             \u001b[0;32mif\u001b[0m \u001b[0mraise_missing\u001b[0m\u001b[0;34m:\u001b[0m\u001b[0;34m\u001b[0m\u001b[0;34m\u001b[0m\u001b[0m\n\u001b[1;32m   1303\u001b[0m                 \u001b[0mnot_found\u001b[0m \u001b[0;34m=\u001b[0m \u001b[0mlist\u001b[0m\u001b[0;34m(\u001b[0m\u001b[0mset\u001b[0m\u001b[0;34m(\u001b[0m\u001b[0mkey\u001b[0m\u001b[0;34m)\u001b[0m \u001b[0;34m-\u001b[0m \u001b[0mset\u001b[0m\u001b[0;34m(\u001b[0m\u001b[0max\u001b[0m\u001b[0;34m)\u001b[0m\u001b[0;34m)\u001b[0m\u001b[0;34m\u001b[0m\u001b[0;34m\u001b[0m\u001b[0m\n\u001b[0;32m-> 1304\u001b[0;31m                 \u001b[0;32mraise\u001b[0m \u001b[0mKeyError\u001b[0m\u001b[0;34m(\u001b[0m\u001b[0;34mf\"{not_found} not in index\"\u001b[0m\u001b[0;34m)\u001b[0m\u001b[0;34m\u001b[0m\u001b[0;34m\u001b[0m\u001b[0m\n\u001b[0m\u001b[1;32m   1305\u001b[0m \u001b[0;34m\u001b[0m\u001b[0m\n\u001b[1;32m   1306\u001b[0m             \u001b[0;31m# we skip the warning on Categorical\u001b[0m\u001b[0;34m\u001b[0m\u001b[0;34m\u001b[0m\u001b[0;34m\u001b[0m\u001b[0m\n",
      "\u001b[0;31mKeyError\u001b[0m: \"['codes'] not in index\""
     ]
    },
    {
     "data": {
      "text/plain": [
       "<Figure size 1152x288 with 0 Axes>"
      ]
     },
     "metadata": {},
     "output_type": "display_data"
    }
   ],
   "source": [
    "plt.figure(figsize=(16, 4))\n",
    "aux=df[[\"ano_mes_dt\",\"codes\"]]\n",
    "aux=aux.groupby([\"ano_mes_dt\",\"codes\"]).size().to_frame().rename(columns={0:'total_sales'}).sort_values('total_sales', ascending=False).reset_index()\n",
    "ax=sns.scatterplot(x='ano_mes_dt', y='total_sales', data=aux)\n",
    "#plt.xticks(rotation=90)\n",
    "ax.set_title('Total sales per month')\n",
    "ax.grid()"
   ]
  },
  {
   "cell_type": "markdown",
   "metadata": {},
   "source": [
    "### Estimando la correlación\n",
    "\n",
    "Medimos la relación lineal entre las ventas totales y el mes, calculamos la matriz de correlacion para determinar la influencia de la variable:"
   ]
  },
  {
   "cell_type": "code",
   "execution_count": null,
   "metadata": {},
   "outputs": [],
   "source": [
    "corr_mat  = aux[['total_sales','codes']].corr()\n",
    "corr_mat[['total_sales','codes']][0:1]"
   ]
  },
  {
   "cell_type": "markdown",
   "metadata": {},
   "source": [
    "### Grafica de la relación lineal"
   ]
  },
  {
   "cell_type": "code",
   "execution_count": null,
   "metadata": {},
   "outputs": [],
   "source": [
    "# relación lineal entre las ventas totales y el mes\n",
    "sns.lmplot(x='codes',y='total_sales',data=aux,line_kws = {'color': \"red\"} ,aspect= 2)\n",
    "plt.title('sales per month');"
   ]
  },
  {
   "cell_type": "markdown",
   "metadata": {},
   "source": [
    "### Modelo"
   ]
  },
  {
   "cell_type": "code",
   "execution_count": null,
   "metadata": {},
   "outputs": [],
   "source": [
    "formula = 'total_sales~codes'\n",
    "model   = sfm.ols(formula = formula, data = aux).fit()\n",
    "print(model.summary())"
   ]
  },
  {
   "cell_type": "code",
   "execution_count": null,
   "metadata": {},
   "outputs": [],
   "source": [
    "# predict\n",
    "X = sm.add_constant(aux[\"codes\"][:1])\n",
    "model.predict(X)"
   ]
  },
  {
   "cell_type": "markdown",
   "metadata": {},
   "source": [
    "# Sales of a product per month\n",
    "\n",
    "### Data Exploration\n",
    "Generamos una grafica de las ventas por mes de un producto "
   ]
  },
  {
   "cell_type": "code",
   "execution_count": null,
   "metadata": {},
   "outputs": [],
   "source": [
    "item=2\n",
    "plt.figure(figsize=(16, 4))\n",
    "aux=df[[\"product_category_name\",\"ano_mes_dt\",\"codes\"]]\n",
    "aux=aux.groupby([\"product_category_name\",\"ano_mes_dt\",\"codes\"]).size().to_frame().rename(columns={0:'total_sales'}).sort_values('total_sales', ascending=False).reset_index()\n",
    "listaP=list(aux[\"product_category_name\"])\n",
    "aux=aux[(aux[\"product_category_name\"]==listaP[item])]\n",
    "ax=sns.scatterplot(x='ano_mes_dt', y='total_sales', data=aux)\n",
    "#plt.xticks(rotation=90)\n",
    "ax.set_title(listaP[item]+' by month')\n",
    "ax.grid()"
   ]
  },
  {
   "cell_type": "markdown",
   "metadata": {},
   "source": [
    "### Correlación\n",
    "\n",
    "Medimos la relación lineal entre las variables, calculamos la matriz de correlacion para determinar la influencia de las variables :"
   ]
  },
  {
   "cell_type": "code",
   "execution_count": null,
   "metadata": {},
   "outputs": [],
   "source": [
    "corr_mat  = aux[['total_sales','codes']].corr()\n",
    "corr_mat"
   ]
  },
  {
   "cell_type": "markdown",
   "metadata": {},
   "source": [
    "### Grafica de la relación lineal"
   ]
  },
  {
   "cell_type": "code",
   "execution_count": null,
   "metadata": {},
   "outputs": [],
   "source": [
    "# relación lineal entre las ventas totales y el mes\n",
    "sns.lmplot(x='codes',y='total_sales',data=aux,line_kws = {'color': \"red\"} ,aspect= 2)\n",
    "plt.title(listaP[item]+' by month');"
   ]
  },
  {
   "cell_type": "markdown",
   "metadata": {},
   "source": [
    "### Modelo"
   ]
  },
  {
   "cell_type": "code",
   "execution_count": null,
   "metadata": {},
   "outputs": [],
   "source": [
    "formula = 'total_sales~codes'\n",
    "model   = sfm.ols(formula = formula, data = aux).fit()\n",
    "print(model.summary())"
   ]
  },
  {
   "cell_type": "code",
   "execution_count": null,
   "metadata": {},
   "outputs": [],
   "source": [
    "# predict\n",
    "X = sm.add_constant(aux[\"codes\"][:1])\n",
    "model.predict(X)"
   ]
  },
  {
   "cell_type": "markdown",
   "metadata": {},
   "source": [
    "# Total product sales by region\n",
    "### Data Exploration\n",
    "The dataframe has 74 product categories, we generate a graph with the amount of products sold by region and we organize it in descending order."
   ]
  },
  {
   "cell_type": "code",
   "execution_count": null,
   "metadata": {},
   "outputs": [],
   "source": [
    "plt.figure(figsize=(16, 4))\n",
    "aux=df[[\"product_category_name\",\"regions\"]]\n",
    "aux=aux.groupby([\"product_category_name\",\"regions\"]).size().to_frame().rename(columns={0:'region_sales'}).sort_values('region_sales', ascending=False).reset_index()\n",
    "#aux=aux[:50]\n",
    "#ax=sns.lineplot(x='product_category_name', y='region_sales', hue='regions', data=aux)\n",
    "ax=sns.scatterplot(x='product_category_name', y='region_sales', hue='regions', data=aux)\n",
    "plt.xticks(rotation=90)\n",
    "ax.set_title('Total product sales by region')\n",
    "ax.grid()"
   ]
  },
  {
   "cell_type": "markdown",
   "metadata": {},
   "source": [
    "### Correlación\n",
    "\n",
    "Existen factores que podrian impulsar la venta de algunos productos. Seleccionamos algunas variables y medimos la relación lineal entre estas variables y el total de ventas de producto por region usando la correlacion, calculamos la matriz de correlacion para determinar su influencia: "
   ]
  },
  {
   "cell_type": "code",
   "execution_count": null,
   "metadata": {},
   "outputs": [],
   "source": [
    "print('correlacion de total ventas por region\\n')\n",
    "print('Region   ','price   ', 'freight_value', 'product_photos','review_score','Region',sep='\\t')\n",
    "for R in region:\n",
    "    aux=df[(df['regions']==R)][['product_category_name','price', 'freight_value', 'product_photos_qty','review_score','regions','order_purchase_timestamp']]\n",
    "    aux2=aux.groupby('product_category_name').size().to_frame().rename(columns={0:'region_sales'}).sort_values('region_sales', ascending=False).reset_index()\n",
    "    aux=pd.merge(aux, aux2, how=\"left\", left_on=\"product_category_name\", right_on=\"product_category_name\")\n",
    "    corr_mat  = aux[['region_sales','price', 'freight_value', 'product_photos_qty','review_score']].corr()\n",
    "    \n",
    "    corr_list = corr_mat[['price', 'freight_value', 'product_photos_qty','review_score']][0:1].values.tolist()[0]\n",
    "    print ('region_sales',round(corr_list[0],6),round(corr_list[1],6),round(corr_list[2],6),round(corr_list[3],6),R,sep='\\t')"
   ]
  },
  {
   "cell_type": "markdown",
   "metadata": {},
   "source": [
    "### Modelo"
   ]
  },
  {
   "cell_type": "code",
   "execution_count": null,
   "metadata": {},
   "outputs": [],
   "source": [
    "formula = 'region_sales~price+review_score+freight_value+product_photos_qty'\n",
    "model   = sfm.ols(formula = formula, data = aux).fit()\n",
    "print(model.summary())"
   ]
  },
  {
   "cell_type": "markdown",
   "metadata": {},
   "source": [
    "# Sale of one item in the region per month\n",
    "\n",
    "### Data Exploration"
   ]
  },
  {
   "cell_type": "code",
   "execution_count": null,
   "metadata": {},
   "outputs": [],
   "source": [
    "item=0\n",
    "R='Sudeste'\n",
    "plt.figure(figsize=(16, 4))\n",
    "aux=df[(df['regions']==R)][['product_category_name',\"ano_mes_dt\",\"codes\",'price', 'freight_value', 'product_photos_qty','review_score','regions']]\n",
    "aux=aux.groupby(['product_category_name',\"ano_mes_dt\",\"codes\",'price', 'freight_value', 'product_photos_qty','review_score']).size().to_frame().rename(columns={0:'region_sales'}).sort_values('region_sales', ascending=False).reset_index()\n",
    "listaP=list(aux[\"product_category_name\"].unique())\n",
    "aux=aux[(aux[\"product_category_name\"]==listaP[item])][[\"ano_mes_dt\",\"codes\",'region_sales','price', 'freight_value', 'product_photos_qty','review_score']].sort_values('ano_mes_dt', ascending=True)\n",
    "ax=sns.scatterplot(x='ano_mes_dt', y='region_sales', data=aux)\n",
    "#plt.xticks(rotation=90)\n",
    "ax.set_title(listaP[item]+' per month in the region '+R)\n",
    "ax.grid()\n",
    "print(listaP[item]+' per month in the region',R)\n",
    "aux"
   ]
  },
  {
   "cell_type": "markdown",
   "metadata": {},
   "source": [
    "### Correlación"
   ]
  },
  {
   "cell_type": "code",
   "execution_count": null,
   "metadata": {},
   "outputs": [],
   "source": [
    "print('Correlacion de total ventas de',listaP[item],'por mes en la region',R,'\\n')\n",
    "corr_mat  = aux[['region_sales','price', 'freight_value', 'product_photos_qty','review_score','codes']].corr()\n",
    "corr_mat#[['region_sales','price', 'freight_value', 'product_photos_qty','review_score','codes']][0:1]"
   ]
  },
  {
   "cell_type": "markdown",
   "metadata": {},
   "source": [
    "### Modelo"
   ]
  },
  {
   "cell_type": "code",
   "execution_count": null,
   "metadata": {},
   "outputs": [],
   "source": [
    "formula = 'region_sales~price+review_score+freight_value+product_photos_qty+codes'\n",
    "model   = sfm.ols(formula = formula, data = aux).fit()\n",
    "print(model.summary())"
   ]
  },
  {
   "cell_type": "markdown",
   "metadata": {},
   "source": [
    "# OTRAS GRAFICAS"
   ]
  },
  {
   "cell_type": "markdown",
   "metadata": {},
   "source": [
    "## Purchases by state\n",
    "\n",
    "We generate a graph with the amount of online purchases made in each state"
   ]
  },
  {
   "cell_type": "code",
   "execution_count": null,
   "metadata": {
    "scrolled": true
   },
   "outputs": [],
   "source": [
    "plt.figure(figsize=(18, 4))\n",
    "aux=df.groupby('name_state').size().to_frame().rename(columns={0:'Transactions'}).head(27).reset_index()\n",
    "ax=sns.barplot(x='name_state',y='Transactions',data=aux);\n",
    "ax.set_xticklabels(ax.get_xticklabels(), rotation=90);\n",
    "ax.set_title('Purchases x State')\n",
    "ax.grid()"
   ]
  },
  {
   "cell_type": "markdown",
   "metadata": {},
   "source": [
    "The states that make the most purchases are Sao Pablo and Rio de Janeiro, the two main states in the country."
   ]
  },
  {
   "cell_type": "markdown",
   "metadata": {},
   "source": [
    "## Most selled products\n",
    "\n",
    "The dataframe has 74 categories of products, we generate a graph with the amount of products sold by category and organize it descendingly."
   ]
  },
  {
   "cell_type": "code",
   "execution_count": null,
   "metadata": {},
   "outputs": [],
   "source": [
    "plt.figure(figsize=(18, 4))\n",
    "aux=df.groupby('product_category_name').size().to_frame().rename(columns={0:'Transactions'}).sort_values('Transactions', ascending=False).head(74).reset_index()\n",
    "listaP=list(aux[\"product_category_name\"])\n",
    "ax=sns.barplot(x='product_category_name',y='Transactions',data=aux);\n",
    "ax.set_xticklabels(ax.get_xticklabels(), rotation=90);\n",
    "ax.set_title('Most selled products')\n",
    "ax.grid()\n",
    "print(\"The dataframe has \",len(df['product_category_name'].unique()),\" categories of products\")"
   ]
  },
  {
   "cell_type": "markdown",
   "metadata": {},
   "source": [
    "## Cities with the highest number of sales\n",
    "\n",
    "The dataframe has 4119 cities, we take the 50 cities that have the most registered sales, and we generate a graph with the number of sales per city, organized in descending order."
   ]
  },
  {
   "cell_type": "code",
   "execution_count": null,
   "metadata": {},
   "outputs": [],
   "source": [
    "plt.figure(figsize=(16, 4))\n",
    "aux=df.groupby('customer_city').size().to_frame().rename(columns={0:'Transactions'}).sort_values('Transactions', ascending=False).head(50).reset_index()\n",
    "listaC=list(aux[\"customer_city\"])\n",
    "ax=sns.barplot(x='customer_city',y='Transactions',data=aux);\n",
    "ax.set_xticklabels(ax.get_xticklabels(), rotation=90);\n",
    "ax.set_title('Cities with the highest number of sales')\n",
    "ax.grid()\n",
    "print(\"We have\", len(df[\"customer_city\"].unique()),\"cities, the 50 that register the highest number of sales are shown\")"
   ]
  },
  {
   "cell_type": "markdown",
   "metadata": {},
   "source": [
    "## Best-selling products by city\n",
    "\n",
    "The dataframe has 74 product categories, we generate a graph with the amount of products sold by city and we organize it in descending order, we take the 10 cities that register the highest number of sales."
   ]
  },
  {
   "cell_type": "code",
   "execution_count": null,
   "metadata": {},
   "outputs": [],
   "source": [
    "listaC2=listaC[:10]\n",
    "plt.figure(figsize=(16, 4))\n",
    "aux=df[(df[\"customer_city\"].isin(listaC2))][[\"product_category_name\",\"customer_city\"]]\n",
    "aux=aux.groupby([\"product_category_name\",\"customer_city\"]).size().to_frame().rename(columns={0:'Transactions'}).reset_index()\n",
    "aux=aux.sort_values('Transactions', ascending=False)\n",
    "#aux=aux[:50]\n",
    "#ax=sns.lineplot(x='product_category_name', y='Number de transaciones', hue='customer_city', data=aux)\n",
    "ax=sns.scatterplot(x='product_category_name', y='Transactions', hue='customer_city', data=aux)\n",
    "plt.xticks(rotation=90)\n",
    "ax.set_title('Best-selling products by city')\n",
    "ax.grid()"
   ]
  },
  {
   "cell_type": "markdown",
   "metadata": {},
   "source": [
    "## Best-selling products by state\n",
    "\n",
    "The dataframe has 74 product categories, we generate a graph with the amount of products sold by state and we organize it in descending order."
   ]
  },
  {
   "cell_type": "code",
   "execution_count": null,
   "metadata": {},
   "outputs": [],
   "source": [
    "plt.figure(figsize=(16, 4))\n",
    "aux=df[[\"product_category_name\",\"name_state\"]]\n",
    "aux=aux.groupby([\"product_category_name\",\"name_state\"]).size().to_frame().rename(columns={0:'Transactions'}).reset_index()\n",
    "aux=aux.sort_values('Transactions', ascending=False)\n",
    "#aux=aux[:50]\n",
    "#ax=sns.lineplot(x='product_category_name', y='Number de transaciones', hue='customer_city', data=aux)\n",
    "ax=sns.scatterplot(x='product_category_name', y='Transactions', hue='name_state', data=aux)\n",
    "plt.xticks(rotation=90)\n",
    "ax.set_title('Best-selling products by state')\n",
    "ax.grid()"
   ]
  },
  {
   "cell_type": "markdown",
   "metadata": {},
   "source": [
    "# Review score by product\n",
    "\n",
    "The dataframe has 74 product categories, we generate a graph with the amount of estrellas por producto in descending order."
   ]
  },
  {
   "cell_type": "code",
   "execution_count": null,
   "metadata": {},
   "outputs": [],
   "source": [
    "plt.figure(figsize=(16, 4))\n",
    "aux=df[[\"product_category_name\",\"review_score\"]]\n",
    "aux=aux.groupby([\"product_category_name\",\"review_score\"]).size().to_frame().rename(columns={0:'Transactions'}).reset_index()\n",
    "aux.product_category_name  = aux.product_category_name .astype(pd.api.types.CategoricalDtype(categories=listaP, ordered = True))\n",
    "#aux=aux[aux[\"product_category_name\"].isin(listaP[:10])]\n",
    "#ax=sns.boxplot(x='product_category_name',y='Transactions',hue='review_score', data=aux)#.set_yscale('log')\n",
    "ax=sns.scatterplot(x='product_category_name',y='Transactions',hue='review_score',data=aux);\n",
    "plt.xticks(rotation=90);\n",
    "ax.set_title('Review score by product')\n",
    "ax.grid()"
   ]
  },
  {
   "cell_type": "markdown",
   "metadata": {},
   "source": [
    "# Best-selling products by month\n",
    "\n",
    "The dataframe has 74 product categories, we generate a graph with the amount of estrellas por producto in descending order"
   ]
  },
  {
   "cell_type": "code",
   "execution_count": null,
   "metadata": {},
   "outputs": [],
   "source": [
    "plt.figure(figsize=(16, 4))\n",
    "aux=df[[\"product_category_name\",\"mes\"]]\n",
    "aux2=aux[(aux[\"mes\"]>9)]\n",
    "aux2=aux2.groupby([\"product_category_name\",\"mes\"]).size().to_frame().rename(columns={0:'Transactions'}).sort_values('Transactions', ascending=False).reset_index()\n",
    "#aux2=aux2[(aux2[\"Transactions\"]>10)]\n",
    "ax=sns.scatterplot(x='product_category_name', y='Transactions',hue=\"mes\", data=aux2)\n",
    "plt.xticks(rotation=90)\n",
    "ax.set_title('Best-selling products by month')\n",
    "ax.grid()"
   ]
  },
  {
   "cell_type": "markdown",
   "metadata": {},
   "source": [
    "# FIN XIMENA"
   ]
  },
  {
   "cell_type": "markdown",
   "metadata": {},
   "source": [
    "# Highest Income per Category"
   ]
  },
  {
   "cell_type": "code",
   "execution_count": null,
   "metadata": {},
   "outputs": [],
   "source": [
    "a=pd.merge(order_items, orders, on=['order_id'])\n",
    "merged_df=pd.merge(a, products, on=['product_id'])"
   ]
  },
  {
   "cell_type": "code",
   "execution_count": null,
   "metadata": {},
   "outputs": [],
   "source": [
    "merged_df.order_status.value_counts()"
   ]
  },
  {
   "cell_type": "code",
   "execution_count": null,
   "metadata": {},
   "outputs": [],
   "source": [
    "top50categories_df=merged_df['price'].groupby(merged_df['product_category_name']).sum().sort_values(ascending=False)[:50]\n",
    "top50categories_df"
   ]
  },
  {
   "cell_type": "code",
   "execution_count": null,
   "metadata": {},
   "outputs": [],
   "source": [
    "fig=plt.figure(figsize=(18,4))\n",
    "sns.barplot(y=top50categories_df.values,x=top50categories_df.index)\n",
    "plt.title('Highest Income Products',fontsize=16)\n",
    "plt.xlabel('Total Income',fontsize=14)\n",
    "plt.xticks(rotation=90)\n",
    "plt.ylabel('Product Category',fontsize=14)"
   ]
  },
  {
   "cell_type": "markdown",
   "metadata": {},
   "source": [
    "It's interesting looking at this chart that the highest incomes for the platform come from the category health, beauty."
   ]
  },
  {
   "cell_type": "markdown",
   "metadata": {},
   "source": [
    "# Late Deliveries"
   ]
  },
  {
   "cell_type": "code",
   "execution_count": null,
   "metadata": {},
   "outputs": [],
   "source": [
    "delivered_time = pd.to_datetime(merged_df.order_delivered_customer_date)\n",
    "estimated_time = pd.to_datetime(merged_df.order_estimated_delivery_date)\n",
    "merged_df[\"late_delivery\"] = delivered_time - estimated_time\n",
    "merged_df[\"late_delivery\"]=merged_df[\"late_delivery\"]/np.timedelta64(1,\"D\")"
   ]
  },
  {
   "cell_type": "code",
   "execution_count": null,
   "metadata": {},
   "outputs": [],
   "source": [
    "late_deliveries_df = merged_df[merged_df.late_delivery > 0]\n",
    "late_deliveries_df[[\"product_category_name\", \"order_delivered_customer_date\", \"order_estimated_delivery_date\", \"late_delivery\"]].head(10)"
   ]
  },
  {
   "cell_type": "markdown",
   "metadata": {},
   "source": [
    "# Difference between Delivered Time and Delivered Estimated Time vs Reviews"
   ]
  },
  {
   "cell_type": "code",
   "execution_count": null,
   "metadata": {},
   "outputs": [],
   "source": [
    "delivered_time = pd.to_datetime(merged_df.order_delivered_customer_date)\n",
    "approved_time = pd.to_datetime(merged_df.order_approved_at)\n",
    "merged_df[\"delivery_time\"] = delivered_time - approved_time\n",
    "merged_df[\"delivery_time\"] = merged_df[\"delivery_time\"]/np.timedelta64(1,\"D\")"
   ]
  },
  {
   "cell_type": "code",
   "execution_count": null,
   "metadata": {},
   "outputs": [],
   "source": [
    "delivery_time_df = merged_df[merged_df.delivery_time > 0]\n",
    "delivery_time_df[[\"product_category_name\", \"order_delivered_customer_date\", \"order_estimated_delivery_date\", \"late_delivery\"]].head(10)"
   ]
  },
  {
   "cell_type": "code",
   "execution_count": null,
   "metadata": {},
   "outputs": [],
   "source": [
    "orders1 = orders.copy()\n",
    "orders1 = orders1[['order_id', 'order_delivered_customer_date', 'order_estimated_delivery_date']]\n",
    "orders1['order_delivered_customer_date'] = pd.to_datetime(orders1['order_delivered_customer_date'])\n",
    "orders1['order_estimated_delivery_date'] = pd.to_datetime(orders1['order_estimated_delivery_date'])\n",
    "orders1['Estimated_Delivered'] = orders1['order_delivered_customer_date']-orders1['order_estimated_delivery_date']\n",
    "orders1['Estimated_Delivered'] = orders1['Estimated_Delivered'].dt.days\n",
    "orders1.head()"
   ]
  },
  {
   "cell_type": "markdown",
   "metadata": {},
   "source": [
    "Here we calculate the delta between Estimated Delivery date versus the real time the costumer delivered time"
   ]
  },
  {
   "cell_type": "code",
   "execution_count": null,
   "metadata": {},
   "outputs": [],
   "source": [
    "orders_reviews = pd.merge(orders1, reviews, on=\"order_id\", how=\"left\")\n",
    "orders_reviews = orders_reviews[['order_id', 'order_delivered_customer_date', 'order_estimated_delivery_date', 'Estimated_Delivered', 'review_score']]\n",
    "orders_reviews['Puntuality'] = np.where(orders_reviews['Estimated_Delivered'] <= 0, \"Punctual\", \"Unpunctual\")\n",
    "orders_reviews.head()"
   ]
  },
  {
   "cell_type": "markdown",
   "metadata": {},
   "source": [
    "Now, we make cathegorical variables by the reviews scores as punctual or unpunctual by the difference between Estimated Delivery and Real Delivery. When this delta is negative or zero, we classify it as \"Punctual\" because the company accomplish his terms of service, else the variable takes the \"Unpunctual\" value"
   ]
  },
  {
   "cell_type": "code",
   "execution_count": null,
   "metadata": {},
   "outputs": [],
   "source": [
    "x_review_punctual = pd.crosstab(orders_reviews['review_score'], orders_reviews['Puntuality'])\n",
    "x_review_punctual"
   ]
  },
  {
   "cell_type": "markdown",
   "metadata": {},
   "source": [
    "Here we can see the count by Puntuality and the review scores. Scannig the table, we realize that there is a inverse correlation between the score of the review and the puntuality of the delivery. This relationship is inverse. When the company is punctual in his delivery, then the costumer tends to make a good review with a good score and viceversa."
   ]
  },
  {
   "cell_type": "code",
   "execution_count": null,
   "metadata": {},
   "outputs": [],
   "source": [
    "x_review_punctual_p = pd.crosstab(orders_reviews['review_score'], orders_reviews['Puntuality']).apply(lambda r: r*100/len(orders_reviews), axis=1)\n",
    "x_review_punctual_p.reset_index\n",
    "x_review_punctual_p"
   ]
  },
  {
   "cell_type": "markdown",
   "metadata": {},
   "source": [
    "Here we see the table by percentages"
   ]
  },
  {
   "cell_type": "code",
   "execution_count": null,
   "metadata": {},
   "outputs": [],
   "source": [
    "x_review_punctual_p.plot(kind=\"bar\")\n",
    "#x_review_punctual_p.plot(kind=\"line\")"
   ]
  },
  {
   "cell_type": "markdown",
   "metadata": {},
   "source": [
    "---"
   ]
  },
  {
   "cell_type": "markdown",
   "metadata": {},
   "source": [
    "# Purchasing trend by hour or day of the week "
   ]
  },
  {
   "cell_type": "code",
   "execution_count": null,
   "metadata": {},
   "outputs": [],
   "source": [
    "#unifying the variables in one data frame\n",
    "orders_by_date = pd.merge(left = orders , right = order_payments , how='left', left_on='order_id', right_on='order_id')\n",
    "orders_by_date.head() "
   ]
  },
  {
   "cell_type": "code",
   "execution_count": null,
   "metadata": {},
   "outputs": [],
   "source": [
    "#Elimitating columns we dont need yet\n",
    "orders_by_date = orders_by_date.drop(['order_approved_at', 'order_delivered_carrier_date',\n",
    "       'order_delivered_customer_date', 'order_estimated_delivery_date','payment_sequential', 'payment_type', 'payment_installments'], axis=1)"
   ]
  },
  {
   "cell_type": "code",
   "execution_count": null,
   "metadata": {},
   "outputs": [],
   "source": [
    "#validation of any null values in the order_payment data frame to use\n",
    "orders_by_date.isnull().any()"
   ]
  },
  {
   "cell_type": "code",
   "execution_count": null,
   "metadata": {},
   "outputs": [],
   "source": [
    "#Elimitating nulls\n",
    "orders_by_date = orders_by_date.dropna()\n",
    "orders_by_date = orders_by_date.reset_index(drop=True)\n",
    "orders_by_date"
   ]
  },
  {
   "cell_type": "code",
   "execution_count": null,
   "metadata": {},
   "outputs": [],
   "source": [
    "orders_by_date.isnull().any()"
   ]
  },
  {
   "cell_type": "code",
   "execution_count": null,
   "metadata": {
    "scrolled": true
   },
   "outputs": [],
   "source": [
    "#First we need to change the format of the column DATE to datetime:\n",
    "orders_by_date['order_purchase_timestamp'] = pd.to_datetime(orders_by_date['order_purchase_timestamp'])\n",
    "orders_by_date"
   ]
  },
  {
   "cell_type": "code",
   "execution_count": null,
   "metadata": {
    "scrolled": true
   },
   "outputs": [],
   "source": [
    "#Then, check whether the number of orders has increased over time\n",
    "plt.figure(figsize=(16, 4))\n",
    "monthly_payments = orders_by_date.groupby(orders_by_date['order_purchase_timestamp'].dt.to_period('M')).size()\n",
    "monthly_payments.plot.line()"
   ]
  },
  {
   "cell_type": "markdown",
   "metadata": {},
   "source": [
    "As shown in the graph, the number of orders has been increasing over the 2017, till around November-December 2017 where we can see a decreasing, and around January 2018 continue fluctuating but increasing till October when the data end."
   ]
  },
  {
   "cell_type": "code",
   "execution_count": null,
   "metadata": {
    "scrolled": false
   },
   "outputs": [],
   "source": [
    "#Then, check whether the number of orders has increased over time\n",
    "plt.figure(figsize=(16, 4))\n",
    "Daily_payments = orders_by_date.groupby(orders_by_date['order_purchase_timestamp'].dt.to_period('D')).size()\n",
    "Daily_payments.plot.line()"
   ]
  },
  {
   "cell_type": "markdown",
   "metadata": {},
   "source": [
    "If we see the graph daily we can see how and the end of November 2017 the number of orders increased significative for some days and later decreasing, we are evaluating the event that took place those days to see the variability of the values.\n"
   ]
  },
  {
   "cell_type": "code",
   "execution_count": null,
   "metadata": {},
   "outputs": [],
   "source": [
    "#Adding the days to the Data frame\n",
    "orders_by_date[\"NAME_WEEKDAY\"] = orders_by_date['order_purchase_timestamp'].dt.day_name()"
   ]
  },
  {
   "cell_type": "code",
   "execution_count": null,
   "metadata": {},
   "outputs": [],
   "source": [
    "plt.figure(figsize=(16, 4))\n",
    "aux= orders_by_date.groupby(\"NAME_WEEKDAY\").size().to_frame().rename(columns={0:'Number'}).sort_values(\"NAME_WEEKDAY\", ascending=False).sort_values('Number', ascending=False).reset_index()\n",
    "listaC=list(aux[\"NAME_WEEKDAY\"])\n",
    "ax=sns.barplot(x=\"NAME_WEEKDAY\",y='Number',data=aux);\n",
    "ax.set_xticklabels(ax.get_xticklabels(), rotation=90);\n",
    "ax.set_title('PURCHASING BY WEEKDAY')\n",
    "ax.grid()"
   ]
  },
  {
   "cell_type": "markdown",
   "metadata": {},
   "source": [
    "When we evaluate the number of purchases per week we can see how, during the week, the largest number of purchases is found on Mondays followed closely with the other days of the week and lastly we find the weekends, with Saturday being the day with the least amount of purchases."
   ]
  },
  {
   "cell_type": "code",
   "execution_count": null,
   "metadata": {
    "scrolled": true
   },
   "outputs": [],
   "source": [
    "plt.figure(figsize=(16, 4))\n",
    "ax = sns.stripplot(x=\"NAME_WEEKDAY\", y=\"payment_value\", data = orders_by_date)\n",
    "plt.ylabel('payment_value')\n",
    "plt.show()"
   ]
  },
  {
   "cell_type": "markdown",
   "metadata": {},
   "source": [
    "As shown in the graph, the sales values are more or less grouped below 3000, only a few values exceeded 3000 and are located below 6000, another four sales above 8000 and a single one per ma of 13000 reais."
   ]
  },
  {
   "cell_type": "code",
   "execution_count": null,
   "metadata": {},
   "outputs": [],
   "source": [
    "#Adding the hours to the Data frame\n",
    "orders_by_date[\"order_purchase_hour\"] = orders_by_date['order_purchase_timestamp'].dt.hour"
   ]
  },
  {
   "cell_type": "code",
   "execution_count": null,
   "metadata": {
    "scrolled": true
   },
   "outputs": [],
   "source": [
    "plt.figure(figsize=(16, 4))\n",
    "aux= orders_by_date.groupby(\"order_purchase_hour\").size().to_frame().rename(columns={0:'Number'}).sort_values(\"order_purchase_hour\", ascending=False).sort_values('Number', ascending=False).reset_index()\n",
    "listaC=list(aux[\"order_purchase_hour\"])\n",
    "ax=sns.barplot(x=\"order_purchase_hour\",y='Number',data=aux);\n",
    "ax.set_xticklabels(ax.get_xticklabels(), rotation=90);\n",
    "ax.set_title('PURCHASING BY HOUR')\n",
    "ax.grid()"
   ]
  },
  {
   "cell_type": "code",
   "execution_count": null,
   "metadata": {
    "scrolled": true
   },
   "outputs": [],
   "source": [
    "plt.figure(figsize=(16, 4))\n",
    "bx = sns.stripplot(x=\"order_purchase_hour\", y=\"payment_value\", data = orders_by_date)\n",
    "plt.ylabel('order_purchase_Values')\n",
    "plt.show()\n"
   ]
  },
  {
   "cell_type": "markdown",
   "metadata": {},
   "source": [
    "Here in the Stripplox we can see a better look of how the purchasings are accumulated over the hours with more of the values around 3000 and less over the 3000 and 9000 and just one value below the 14000."
   ]
  },
  {
   "cell_type": "code",
   "execution_count": null,
   "metadata": {},
   "outputs": [],
   "source": [
    "plt.figure(figsize=(16, 4))\n",
    "aux = orders_by_date[[\"order_purchase_hour\",\"NAME_WEEKDAY\"]]\n",
    "aux = aux.groupby([\"order_purchase_hour\",\"NAME_WEEKDAY\"]).size().to_frame().rename(columns={0:'Number'}).reset_index()\n",
    "#aux = aux.sort_values('Number', ascending=False)\n",
    "#aux=aux[:50]\n",
    "ax=sns.scatterplot(x=\"order_purchase_hour\", y='Number', hue=\"NAME_WEEKDAY\", data=aux)\n",
    "#ax.set_xticklabels(ax.get_xticklabels(), rotation=90)\n",
    "ax.set_title('PURCHASE BY HOUR AND DAY WEEKDAY ')\n",
    "ax.grid()\n"
   ]
  },
  {
   "cell_type": "markdown",
   "metadata": {},
   "source": [
    "Here we can see the relation between the day of the week and the purchase hour, we can observe how is the behavior."
   ]
  },
  {
   "cell_type": "code",
   "execution_count": null,
   "metadata": {
    "scrolled": false
   },
   "outputs": [],
   "source": [
    "orders_by_date.pivot_table(\"payment_value\",\"order_purchase_hour\", aggfunc=np.sum)"
   ]
  },
  {
   "cell_type": "markdown",
   "metadata": {},
   "source": [
    "We did a pivot to see the total value of all purchasing  by each hour and by date below."
   ]
  },
  {
   "cell_type": "code",
   "execution_count": null,
   "metadata": {
    "scrolled": true
   },
   "outputs": [],
   "source": [
    "orders_by_date.pivot_table(\"payment_value\",\"NAME_WEEKDAY\", aggfunc=np.sum)\n"
   ]
  },
  {
   "cell_type": "markdown",
   "metadata": {},
   "source": [
    "Purchasing by date below."
   ]
  },
  {
   "cell_type": "markdown",
   "metadata": {},
   "source": [
    "# Payment type trends "
   ]
  },
  {
   "cell_type": "code",
   "execution_count": null,
   "metadata": {},
   "outputs": [],
   "source": [
    "efective_orders=orders[(orders.order_status!= 'canceled') & (orders.order_status!= 'unavailable')]"
   ]
  },
  {
   "cell_type": "code",
   "execution_count": null,
   "metadata": {},
   "outputs": [],
   "source": [
    "#payment_orders= pd.concat([order_payments,efective_orders], axis=1)\n",
    "payment_orders=pd.merge(order_payments, efective_orders)"
   ]
  },
  {
   "cell_type": "code",
   "execution_count": null,
   "metadata": {},
   "outputs": [],
   "source": [
    "import datetime\n",
    "timesMonth=[]\n",
    "timesYear=[]\n",
    "weekday=[]\n",
    "hour=[]\n",
    "for i in payment_orders['order_purchase_timestamp']:\n",
    "    fecha=pd.to_datetime(i)\n",
    "    timesMonth.append(fecha.month)\n",
    "    timesYear.append(fecha.year)\n",
    "    weekday.append(fecha.dayofweek)\n",
    "    hour.append(fecha.hour)\n",
    "payment_orders['Month']=timesMonth\n",
    "payment_orders['Year']=timesYear\n",
    "payment_orders['WeekDay']=weekday\n",
    "payment_orders['Hour']=hour\n",
    "payment_orders.head()\n",
    "# pd.datetime.now().year*100+pd.datetime.now().month"
   ]
  },
  {
   "cell_type": "markdown",
   "metadata": {},
   "source": [
    "#### Most people in Brazil E Commerce use Credit Card  to pay their buys"
   ]
  },
  {
   "cell_type": "code",
   "execution_count": null,
   "metadata": {},
   "outputs": [],
   "source": [
    "plt.figure(figsize=(16, 4))\n",
    "sns.countplot('payment_type',data=payment_orders)\n",
    "\n",
    "plt.show()"
   ]
  },
  {
   "cell_type": "markdown",
   "metadata": {},
   "source": [
    "#### Sales of best-selling products, show the same behavior as total sales"
   ]
  },
  {
   "cell_type": "code",
   "execution_count": null,
   "metadata": {},
   "outputs": [],
   "source": [
    "#Sales with more seller products(mor than 100 units per product)\n",
    "dfrs = order_items.groupby('product_id').count()\n",
    "dfrs.sort_values(by=['order_id'], ascending=False, inplace=True)\n",
    "dfrs1 = dfrs[(dfrs['order_id']>100)]\n",
    "ListProducts=dfrs1.index\n",
    "ListOrders=order_items[(order_items['product_id'].isin(ListProducts))]['order_id'].unique()\n",
    "pop=payment_orders[(payment_orders['order_id']).isin(ListOrders)]\n",
    "plt.figure(figsize=(16, 4))\n",
    "sns.countplot('payment_type',data=pop)\n",
    "plt.show()"
   ]
  },
  {
   "cell_type": "code",
   "execution_count": null,
   "metadata": {},
   "outputs": [],
   "source": [
    "#compute correlation matrix\n",
    "df_correlations = order_items.corr()\n",
    "#mask the upper half for visualization purposes\n",
    "mask = np.zeros_like(df_correlations, dtype=np.bool)\n",
    "mask[np.triu_indices_from(mask)] = True\n",
    "# Draw the heatmap with the mask and correct aspect ratio\n",
    "plt.figure(figsize= (10,10))\n",
    "cmap = sns.diverging_palette(220, 10, as_cmap=True)\n",
    "sns.heatmap(df_correlations,mask=mask,  vmax=1, vmin=-1, cmap=cmap, \n",
    "            center=0,\n",
    "            square=True, linewidths=.5, cbar_kws={\"shrink\": .5});\n",
    "#orders_by_date"
   ]
  },
  {
   "cell_type": "markdown",
   "metadata": {},
   "source": [
    "## There is no relevant information in a general line of time"
   ]
  },
  {
   "cell_type": "code",
   "execution_count": null,
   "metadata": {},
   "outputs": [],
   "source": [
    "# Comportamiento en el tiempo por Tipo de Pago\n",
    "payment_orders.sort_values(by=['order_purchase_timestamp'], inplace=True)\n",
    "listPaymentT = ['credit_card','boleto','voucher','debit_card']\n",
    "color = ['Blue','Orange','Green','Red']\n",
    "for i,var in enumerate(listPaymentT):\n",
    "    #print(var)\n",
    "    temp = payment_orders[(payment_orders['payment_type'] == var)][['order_purchase_timestamp','payment_value']]\n",
    "    temp.plot(figsize=(16, 4), kind='line',x='order_purchase_timestamp',y='payment_value', color=color[i] ,label = var)\n",
    "    plt.tittle = 'Payment Type ' + var\n",
    "    #plt.xticks(rotation=90)\n",
    "    #plt.legend()\n",
    "plt.show()"
   ]
  },
  {
   "cell_type": "markdown",
   "metadata": {},
   "source": [
    "## In Monthly bases Credit card payment has shown changes in September, payments with boleto show some peak in may, july and november,debit-card is more used in Jun to august"
   ]
  },
  {
   "cell_type": "code",
   "execution_count": null,
   "metadata": {},
   "outputs": [],
   "source": [
    "#Behavior Monthly by Payment Type\n",
    "\n",
    "payment_orders.sort_values(by=['Month'], inplace=True)\n",
    "listPaymentT = ['credit_card','boleto','voucher','debit_card']\n",
    "color = ['Blue','Orange','Green','Red']\n",
    "\n",
    "for i,var in enumerate(listPaymentT):\n",
    "    plt.figure(figsize=(16, 4))\n",
    "    #print(var)\n",
    "    temp = payment_orders[(payment_orders['payment_type'] == var)][['Month','payment_value']]\n",
    "    #plt.subplot(2,2,i+1)\n",
    "    sns.boxplot(x='Month',y='payment_value', data=temp ,color=color[i])\n",
    "    #plt.tittle = 'Payment Type ' + var\n",
    "    #plt.legend()\n",
    "    plt.show()"
   ]
  },
  {
   "cell_type": "markdown",
   "metadata": {},
   "source": [
    "## Thursday and Saturday shows peaks of buyers in credit card, boletos and bouchers are some disperse along week."
   ]
  },
  {
   "cell_type": "code",
   "execution_count": null,
   "metadata": {},
   "outputs": [],
   "source": [
    "payment_orders.sort_values(by=['WeekDay'], inplace=True)\n",
    "listPaymentT = ['credit_card','boleto','voucher','debit_card']\n",
    "color = ['Blue','Orange','Green','Red']\n",
    "\n",
    "for i,var in enumerate(listPaymentT):\n",
    "    plt.figure(figsize=(16, 4))\n",
    "    print(var)\n",
    "    temp = payment_orders[(payment_orders['payment_type'] == var)][['WeekDay','payment_value']]\n",
    "    sns.boxplot(x='WeekDay',y='payment_value', data=temp ,color=color[i])\n",
    "    plt.show()"
   ]
  },
  {
   "cell_type": "code",
   "execution_count": null,
   "metadata": {},
   "outputs": [],
   "source": []
  },
  {
   "cell_type": "code",
   "execution_count": null,
   "metadata": {
    "scrolled": true
   },
   "outputs": [],
   "source": [
    "payment_orders.sort_values(by=['Hour'], inplace=True)\n",
    "listPaymentT = ['credit_card','boleto','voucher','debit_card']\n",
    "color = ['Red','Green','Blue','Orange']\n",
    "\n",
    "for i,var in enumerate(listPaymentT):\n",
    "    print(var)\n",
    "    plt.figure(figsize=(16, 4))\n",
    "    temp = payment_orders[(payment_orders['payment_type'] == var)][['Hour','payment_value']]\n",
    "    sns.boxplot(x='Hour',y='payment_value', data=temp ,color=color[i])\n",
    "    plt.show()\n"
   ]
  },
  {
   "cell_type": "markdown",
   "metadata": {},
   "source": [
    "# Customer purchase trends"
   ]
  },
  {
   "cell_type": "markdown",
   "metadata": {},
   "source": [
    "## Number of orders x Customer"
   ]
  },
  {
   "cell_type": "markdown",
   "metadata": {},
   "source": [
    "The idea of this exploration of the data is to understand the number of orders made per customer, in order to understand the volume of purchases made by customers who buy the most."
   ]
  },
  {
   "cell_type": "code",
   "execution_count": null,
   "metadata": {},
   "outputs": [],
   "source": [
    "costumer_orders=pd.merge(customer, orders)\n",
    "aux=costumer_orders.groupby(['customer_unique_id']).agg({'order_id':'count'}).reset_index()\n",
    "aux=aux.sort_values(by='order_id',ascending=False).head(100)\n",
    "plt.figure(figsize=(18, 8))\n",
    "ax=sns.barplot(x='customer_unique_id',y='order_id',data=aux);\n",
    "ax.set_xticklabels(ax.get_xticklabels(), rotation=90);\n",
    "ax.set_title('Number of orders x Customer')\n",
    "ax.grid()"
   ]
  },
  {
   "cell_type": "markdown",
   "metadata": {},
   "source": [
    "Looking at the top 50 of purchases, they have more than 4  purchases in the period, with a couple of exceptions that they make more."
   ]
  },
  {
   "cell_type": "markdown",
   "metadata": {},
   "source": [
    "## Top Payments x customer"
   ]
  },
  {
   "cell_type": "markdown",
   "metadata": {},
   "source": [
    "Regarding the amount of payments per customer, we can see that the top 50 customers have made purchases in the year for amounts close to US 3000, the average value of total purchases is US 154"
   ]
  },
  {
   "cell_type": "code",
   "execution_count": null,
   "metadata": {},
   "outputs": [],
   "source": [
    "costumer_payments=pd.merge(costumer_orders, order_payments)\n",
    "aux=costumer_payments.groupby(['customer_unique_id']).agg({'payment_value':'sum'}).reset_index()\n",
    "aux=aux.sort_values(by='payment_value',ascending=False).head(50)\n",
    "plt.figure(figsize=(18, 8))\n",
    "ax=sns.barplot(x='customer_unique_id',y='payment_value',data=aux);\n",
    "ax.set_xticklabels(ax.get_xticklabels(), rotation=90);\n",
    "ax.set_title('Top 50 payments x Customer')\n",
    "ax.grid()\n",
    "top_customer=aux"
   ]
  },
  {
   "cell_type": "code",
   "execution_count": null,
   "metadata": {},
   "outputs": [],
   "source": [
    "costumer_payments.describe()"
   ]
  },
  {
   "cell_type": "markdown",
   "metadata": {},
   "source": [
    "## Prices per product"
   ]
  },
  {
   "cell_type": "markdown",
   "metadata": {},
   "source": [
    "Regarding the prices for the different product categories, we find that the most expensive products are related to the categories of Household utilities, Computers, Arts and electrical appliances. Within these, the highest price range refers to computers"
   ]
  },
  {
   "cell_type": "code",
   "execution_count": null,
   "metadata": {},
   "outputs": [],
   "source": [
    "order_product=pd.merge(products, order_items)\n",
    "top_products= order_product.sort_values(['price'],ascending=False).head(20)\n",
    "sns.boxplot(y=top_products['product_category_name'], x=top_products[\"price\"])\n"
   ]
  },
  {
   "cell_type": "markdown",
   "metadata": {},
   "source": [
    "## Top Products sold"
   ]
  },
  {
   "cell_type": "markdown",
   "metadata": {},
   "source": [
    "Regarding the best-selling products, the following categories have the highest amount of sales:\n",
    "\n",
    "|Product Category   |Number of purchases |\n",
    "|---|---|\n",
    "|Cama_mesa_banho |11.823 |\n",
    "|beleza_saude |9.972|\n",
    "|esporte_lazer | 8.945|\n",
    "|moveis_decoracao |8744| \n",
    "|informatica_acessorios |8082|\n",
    "|utilidades_domesticas |7355|"
   ]
  },
  {
   "cell_type": "code",
   "execution_count": null,
   "metadata": {},
   "outputs": [],
   "source": [
    "client_product=pd.merge(costumer_payments, order_product)\n",
    "aux=client_product.groupby('product_category_name').size().to_frame().rename(columns={0:'Number of purchases'}).reset_index()\n",
    "aux=aux.sort_values(by='Number of purchases',ascending=False).head(50)\n",
    "plt.figure(figsize=(18, 8))\n",
    "ax=sns.barplot(x='product_category_name',y='Number of purchases',data=aux);\n",
    "ax.set_xticklabels(ax.get_xticklabels(), rotation=90);\n",
    "ax.set_title('Top Products sold')\n",
    "ax.grid()"
   ]
  },
  {
   "cell_type": "markdown",
   "metadata": {},
   "source": [
    "## HYPOTHESIS FOR NEXT SUBMISSION\n",
    "\n",
    " \n",
    "- 1  Standing in the graph presented in the secction \"Difference between Delivered Time and Delivered Estimated Time vs Reviews\", we could afirm that puntuality in the delivery time is correlated in a inverse relationship  for the review score when a costumer purchases a product online, and further insides in his decision of not buy in the same store again  \n",
    "- 2  According with analysis section of payment methods The Percentage of Credit Card payment of General Customer is equal to the Percentage of Credit Card payment for Customer of best seller products  \n",
    "\n",
    "- 3  The number of purchases by product category is associated with the region where the customer is located.  \n",
    "- 4  Would be equivalent in hypothesizing that the amount of purchasing is higher on weekends.  \n",
    "- 5  Would the buyers purchase more at nights \n",
    "\n"
   ]
  },
  {
   "cell_type": "markdown",
   "metadata": {},
   "source": [
    "## MODEL DEFINITION"
   ]
  },
  {
   "cell_type": "code",
   "execution_count": null,
   "metadata": {},
   "outputs": [],
   "source": [
    "Cus_ord_itm = pd.merge(left = df , right = order_items , how='left', left_on='order_id', right_on='order_id')\n",
    "Cus_ord_itm.head() "
   ]
  },
  {
   "cell_type": "code",
   "execution_count": null,
   "metadata": {},
   "outputs": [],
   "source": [
    "timesMonth=[]\n",
    "timesYear=[]\n",
    "weekday=[]\n",
    "hour=[]\n",
    "for i in Cus_ord_itm['order_purchase_timestamp']:\n",
    "    fecha=pd.to_datetime(i)\n",
    "    timesMonth.append(fecha.month)\n",
    "    timesYear.append(fecha.year)\n",
    "    weekday.append(fecha.dayofweek)\n",
    "    hour.append(fecha.hour)\n",
    "Cus_ord_itm['Month']=timesMonth\n",
    "Cus_ord_itm['Year']=timesYear\n",
    "Cus_ord_itm['WeekDay']=weekday\n",
    "Cus_ord_itm['Hour']=hour\n",
    "Cus_ord_itm['YearMonth']=Cus_ord_itm['Year']*100+Cus_ord_itm['Month']\n",
    "Cus_ord_itm.head()"
   ]
  },
  {
   "cell_type": "code",
   "execution_count": null,
   "metadata": {},
   "outputs": [],
   "source": [
    "#compute correlation matrix\n",
    "df_correlations = Cus_ord_itm.corr()\n",
    "#mask the upper half for visualization purposes\n",
    "mask = np.zeros_like(df_correlations, dtype=np.bool)\n",
    "mask[np.triu_indices_from(mask)] = True\n",
    "# Draw the heatmap with the mask and correct aspect ratio\n",
    "plt.figure(figsize= (10,10))\n",
    "cmap = sns.diverging_palette(220, 10, as_cmap=True)\n",
    "sns.heatmap(df_correlations,mask=mask,  vmax=1, vmin=-1, cmap=cmap, \n",
    "            center=0,\n",
    "            square=True, linewidths=.5, cbar_kws={\"shrink\": .5});\n",
    "#orders_by_date"
   ]
  },
  {
   "cell_type": "code",
   "execution_count": null,
   "metadata": {},
   "outputs": [],
   "source": [
    "mod1 = smf.ols(formula='price~regions', data=Cus_ord_itm).fit()\n",
    "print(mod1.summary())"
   ]
  },
  {
   "cell_type": "code",
   "execution_count": null,
   "metadata": {},
   "outputs": [],
   "source": [
    "mod3 = smf.ols(formula='price~regions+product_category_name', data=Cus_ord_itm).fit()\n",
    "print(mod3.summary())"
   ]
  },
  {
   "cell_type": "code",
   "execution_count": null,
   "metadata": {},
   "outputs": [],
   "source": [
    "mod4 = smf.ols(formula='price~Year+Month', data=Cus_ord_itm).fit()\n",
    "print(mod4.summary())"
   ]
  },
  {
   "cell_type": "markdown",
   "metadata": {},
   "source": [
    "# Final Submission"
   ]
  },
  {
   "cell_type": "code",
   "execution_count": null,
   "metadata": {},
   "outputs": [],
   "source": [
    "'''\n",
    "customer = pd.read_csv(ruta+'olist_customers_dataset.csv', delimiter=',') \n",
    "order_items=pd.read_csv(ruta+'olist_order_items_dataset.csv', delimiter=',') \n",
    "orders=pd.read_csv(ruta+'olist_orders_dataset.csv', delimiter=',') \n",
    "products=pd.read_csv(ruta+'olist_products_dataset.csv', delimiter=',') \n",
    "order_payments=pd.read_csv(ruta+'olist_order_payments_dataset.csv', delimiter=',')\n",
    "reviews=pd.read_csv(ruta+'olist_order_reviews_dataset.csv', delimiter=',')\n",
    "order_items=pd.read_csv(ruta+'olist_order_items_dataset.csv', delimiter=',')\n",
    "sellers=pd.read_csv(ruta+'olist_sellers_dataset.csv', delimiter=',') \n",
    "'''\n"
   ]
  },
  {
   "cell_type": "code",
   "execution_count": null,
   "metadata": {},
   "outputs": [],
   "source": [
    "#Merge\n",
    "#df=pd.merge(df1, df2, how=\"left\", left_on=\"customer_id\", right_on=\"customer_id\")\n",
    "merged_df=pd.merge(order_payments, orders, how='left', left_on='order_id', right_on='order_id')\n",
    "merged_df=pd.merge(merged_df, reviews, how='left', left_on='order_id', right_on='order_id')\n",
    "merged_df=pd.merge(merged_df, customer, how='left', left_on='customer_id', right_on='customer_id')\n",
    "merged_df=pd.merge(merged_df, order_items, how='left', left_on='order_id', right_on='order_id')\n",
    "merged_df=pd.merge(merged_df, products, how='left', left_on='product_id', right_on='product_id')\n",
    "merged_df=pd.merge(merged_df, sellers, how='left', left_on='seller_id', right_on='seller_id')\n",
    "merged_df=pd.merge(merged_df, sellers, how='left', left_on='seller_id', right_on='seller_id')\n",
    "merged_df.head()"
   ]
  },
  {
   "cell_type": "code",
   "execution_count": null,
   "metadata": {},
   "outputs": [],
   "source": [
    "merged_df.describe()"
   ]
  },
  {
   "cell_type": "code",
   "execution_count": null,
   "metadata": {},
   "outputs": [],
   "source": [
    "#Data['pay'] = Data['income'] + Data['bonus']\n",
    "merged_df['total_pay'] = merged_df['price']+merged_df['freight_value']\n",
    "merged_df.head()"
   ]
  },
  {
   "cell_type": "code",
   "execution_count": null,
   "metadata": {},
   "outputs": [],
   "source": [
    "plt.scatter(merged_df['review_score'],merged_df['payment_value'])\n",
    "plt.title(\"payment_value vs review_score\", fontsize=18, verticalalignment='bottom')\n",
    "plt.xlabel(\"review_score\")\n",
    "plt.ylabel(\"payment_value\");"
   ]
  },
  {
   "cell_type": "code",
   "execution_count": null,
   "metadata": {},
   "outputs": [],
   "source": [
    "sns.boxplot(x='review_score', y='payment_value', data = merged_df)\n",
    "plt.title('review_score vs payment_value')"
   ]
  },
  {
   "cell_type": "code",
   "execution_count": null,
   "metadata": {},
   "outputs": [],
   "source": [
    "corr_mat  = merged_df.corr()\n",
    "corr_mat"
   ]
  },
  {
   "cell_type": "code",
   "execution_count": null,
   "metadata": {},
   "outputs": [],
   "source": [
    "sns.heatmap(corr_mat,cmap=sns.diverging_palette(500, 20, as_cmap=True))\n",
    "plt.title(\"Correlation Matrix\")"
   ]
  },
  {
   "cell_type": "code",
   "execution_count": null,
   "metadata": {},
   "outputs": [],
   "source": [
    "plt.scatter(merged_df['payment_installments'],merged_df['payment_value'])\n",
    "plt.title(\"payment_value vs payment_installments\", fontsize=18, verticalalignment='bottom')\n",
    "plt.xlabel(\"payment_installments\")\n",
    "plt.ylabel(\"payment_value\");"
   ]
  },
  {
   "cell_type": "code",
   "execution_count": null,
   "metadata": {},
   "outputs": [],
   "source": [
    "merged_df['customer_id'].unique()"
   ]
  },
  {
   "cell_type": "markdown",
   "metadata": {},
   "source": [
    "# Regiones Cristian"
   ]
  },
  {
   "cell_type": "code",
   "execution_count": null,
   "metadata": {
    "scrolled": false
   },
   "outputs": [],
   "source": [
    "merged_df.columns"
   ]
  },
  {
   "cell_type": "code",
   "execution_count": null,
   "metadata": {
    "scrolled": true
   },
   "outputs": [],
   "source": [
    "estados= {'AC':'Acre', 'AL':'Alagoas', 'AM':'Amazonas', 'AP':'Amapá', 'BA':'Bahía', 'CE':'Ceará',\n",
    "          'DF':'Distrito Federal', 'ES':'Espírito Santo', 'GO':'Goiás', 'MA':'Maranhão', 'MG':'Minas Gerais',\n",
    "          'MS':'Mato Grosso del Sur', 'MT':'Mato Grosso', 'PA':'Pará', 'PB':'Paraíba', 'PE':'Pernambuco',\n",
    "          'PI':'Piauí', 'PR':'Paraná', 'RJ':'Río de Janeiro', 'RN':'Río Grande del Norte', 'RO':'Rondonia',\n",
    "          'RR':'Roraima', 'RS':'Río Grande del Sur', 'SC':'Santa Catarina', 'SE':'Sergipe', 'SP':'São Paulo', 'TO':'Tocantins'}\n",
    "merged_df['name_state'] = merged_df['customer_state']\n",
    "for i in range(len(estados)):\n",
    "    merged_df[\"name_state\"]=merged_df[\"name_state\"].str.replace(list(estados.keys())[i],list(estados.values())[i])\n",
    "merged_df['name_state'].head()"
   ]
  },
  {
   "cell_type": "code",
   "execution_count": null,
   "metadata": {
    "scrolled": true
   },
   "outputs": [],
   "source": [
    "region = [\"Norte\",\"Sur\",\"Sudeste\",\"Nordeste\",\"CentroOeste\"]\n",
    "regiones= {'AC':'Norte', 'AL':'Nordeste', 'AM':'Norte', 'AP':'Norte', 'BA':'Nordeste',\n",
    "           'CE':'Nordeste', 'DF':'CentroOeste', 'ES':'Sudeste', 'GO':'CentroOeste',\n",
    "           'MA':'Nordeste', 'MG':'Sudeste', 'MS':'CentroOeste', 'MT':'CentroOeste',\n",
    "           'PA':'Norte', 'PB':'Nordeste', 'PE':'Nordeste', 'PI':'Nordeste', 'PR':'Sur',\n",
    "           'RJ':'Sudeste', 'RN':'Nordeste', 'RO':'Norte', 'RR':'Norte', 'RS':'Sur',\n",
    "           'SC':'Sur', 'SE':'Nordeste', 'SP':'Sudeste', 'TO':'Norte'}\n",
    "merged_df['regions']=merged_df['customer_state']\n",
    "for i in range(len(estados)):\n",
    "    merged_df[\"regions\"]=merged_df[\"regions\"].str.replace(list(regiones.keys())[i],list(regiones.values())[i])\n",
    "\n",
    "merged_df['regions'].head()"
   ]
  },
  {
   "cell_type": "code",
   "execution_count": null,
   "metadata": {},
   "outputs": [],
   "source": [
    "merged_df['ano_mes']=merged_df['order_purchase_timestamp'].str.split('-', expand=True)[0]+\"-\"+merged_df['order_purchase_timestamp'].str.split('-', expand=True)[1]\n",
    "merged_df['ano_mes_dt'] = pd.to_datetime(merged_df['ano_mes'])\n",
    "merged_df['fecha'] = pd.to_datetime(merged_df['order_purchase_timestamp'])\n",
    "merged_df['Year']= merged_df['fecha'].dt.year\n",
    "merged_df['mes']= merged_df['fecha'].dt.month\n",
    "merged_df.ano_mes = merged_df.ano_mes.astype('category')\n",
    "merged_df['codes']= merged_df.ano_mes.cat.codes"
   ]
  },
  {
   "cell_type": "code",
   "execution_count": null,
   "metadata": {},
   "outputs": [],
   "source": [
    "Regional_Estimation = merged_df[['regions', 'total_pay', 'Year', 'mes']]\n",
    "Regional_Estimation.head(10)"
   ]
  },
  {
   "cell_type": "code",
   "execution_count": null,
   "metadata": {
    "scrolled": true
   },
   "outputs": [],
   "source": [
    "Regional_Estimation1 = Regional_Estimation.groupby(['regions', 'Year', 'mes']).agg({'total_pay': ['sum']})   \n",
    "Regional_Estimation1 = Regional_Estimation1.reset_index()\n",
    "Regional_Estimation1"
   ]
  },
  {
   "cell_type": "code",
   "execution_count": null,
   "metadata": {},
   "outputs": [],
   "source": [
    "Regional_Estimation1['mes'] = Regional_Estimation1.mes.map(\"{:02}\".format)"
   ]
  },
  {
   "cell_type": "code",
   "execution_count": null,
   "metadata": {},
   "outputs": [],
   "source": [
    "Regional_Estimation1['Year_Month'] = (Regional_Estimation1['Year'].astype(str) + '/' + Regional_Estimation1['mes'].astype(str))\n",
    "Regional_Estimation1['Complete_Date'] = pd.to_datetime(Regional_Estimation1['Year_Month'])\n",
    "Regional_Estimation1"
   ]
  },
  {
   "cell_type": "code",
   "execution_count": null,
   "metadata": {
    "scrolled": true
   },
   "outputs": [],
   "source": [
    "g = sns.FacetGrid(Regional_Estimation1, col=\"regions\")\n",
    "g.map(sns.barplot,'Year_Month','total_pay');"
   ]
  },
  {
   "cell_type": "code",
   "execution_count": null,
   "metadata": {
    "scrolled": true
   },
   "outputs": [],
   "source": [
    "formula = 'total_pay~Year_Month'\n",
    "model   = sfm.ols(formula = formula, data = Regional_Estimation1).fit()\n",
    "print(model.summary())"
   ]
  },
  {
   "cell_type": "code",
   "execution_count": null,
   "metadata": {},
   "outputs": [],
   "source": [
    "Estimation_CentroOeste = Regional_Estimation1[Regional_Estimation1.regions == \"CentroOeste\"]\n",
    "Estimation_CentroOeste = Estimation_CentroOeste[['Year_Month', 'total_pay']]\n",
    "Estimation_CentroOeste.head()"
   ]
  },
  {
   "cell_type": "code",
   "execution_count": null,
   "metadata": {},
   "outputs": [],
   "source": [
    "formula = 'total_pay~Year_Month'\n",
    "model   = sfm.ols(formula = formula, data = Estimation_CentroOeste).fit()\n",
    "print(model.summary())"
   ]
  }
 ],
 "metadata": {
  "kernelspec": {
   "display_name": "Python 3",
   "language": "python",
   "name": "python3"
  },
  "language_info": {
   "codemirror_mode": {
    "name": "ipython",
    "version": 3
   },
   "file_extension": ".py",
   "mimetype": "text/x-python",
   "name": "python",
   "nbconvert_exporter": "python",
   "pygments_lexer": "ipython3",
   "version": "3.6.9"
  }
 },
 "nbformat": 4,
 "nbformat_minor": 2
}
