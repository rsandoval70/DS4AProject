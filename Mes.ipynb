{
 "cells": [
  {
   "cell_type": "markdown",
   "metadata": {},
   "source": [
    "# DS4A / COLOMBIA 4.0 \n",
    "\n",
    "# Topic: Consumer behavior on e-Commerce\n",
    "\n",
    "Data science for the digital future\n",
    "\n",
    "- Ximena Rios Cotazo\n",
    "\n",
    "- Ramon Manuel Sandoval \n",
    "\n",
    "- Luisa Maria Carabali\n",
    "\n",
    "- Alejandro Camargo Garcia\n",
    "\n",
    "- Cristian Sarmiento\n",
    "\n",
    "- Hector Melo\n"
   ]
  },
  {
   "cell_type": "markdown",
   "metadata": {},
   "source": [
    "## Requirements"
   ]
  },
  {
   "cell_type": "code",
   "execution_count": 1,
   "metadata": {},
   "outputs": [],
   "source": [
    "import os\n",
    "import statsmodels.formula.api as sfm\n",
    "from statsmodels.formula.api import ols\n",
    "import statsmodels.api as sm\n",
    "import statsmodels.api as sm\n",
    "import statsmodels.formula.api as smf\n",
    "import pandas as pd\n",
    "import numpy as np\n",
    "import scipy\n",
    "from scipy import stats\n",
    "import matplotlib.pyplot as plt\n",
    "from matplotlib.pylab import rcParams\n",
    "import seaborn as sns\n",
    "import pylab\n",
    "import sklearn.metrics as Metrics\n",
    "from sklearn.model_selection import train_test_split\n",
    "from sklearn.impute import SimpleImputer\n",
    "from sklearn.metrics import mean_squared_error as mse\n",
    "from sklearn.linear_model import LinearRegression\n",
    "# from sklearn.preprocessing import Imputer\n",
    "import tensorflow as tf\n",
    "import plotly.express as px\n",
    "import plotly.graph_objects as go\n",
    "import warnings\n",
    "warnings.simplefilter(\"ignore\", UserWarning)\n",
    "pd.options.mode.chained_assignment = None\n",
    "%matplotlib inline\n",
    "sns.set(style='whitegrid', palette='muted')\n",
    "rcParams['figure.figsize'] = 14, 8\n",
    "np.random.seed(1)\n",
    "tf.random.set_seed(1)\n",
    "plt.style.use('ggplot')\n",
    "sns.set_style('darkgrid')"
   ]
  },
  {
   "cell_type": "markdown",
   "metadata": {},
   "source": [
    "## Dataset\n"
   ]
  },
  {
   "cell_type": "code",
   "execution_count": 2,
   "metadata": {},
   "outputs": [],
   "source": [
    "# Cargar los datasets\n",
    "ruta=os.getcwd()+'/data/'\n",
    "customer = pd.read_csv(ruta+'olist_customers_dataset.csv', delimiter=',') \n",
    "order_items=pd.read_csv(ruta+'olist_order_items_dataset.csv', delimiter=',') \n",
    "orders=pd.read_csv(ruta+'olist_orders_dataset.csv', delimiter=',') \n",
    "products=pd.read_csv(ruta+'olist_products_dataset.csv', delimiter=',') \n",
    "order_payments=pd.read_csv(ruta+'olist_order_payments_dataset.csv', delimiter=',')\n",
    "reviews=pd.read_csv(ruta+'olist_order_reviews_dataset.csv', delimiter=',')\n",
    "order_items=pd.read_csv(ruta+'olist_order_items_dataset.csv', delimiter=',') \n",
    "sellers=pd.read_csv(ruta+'olist_sellers_dataset.csv', delimiter=',') \n",
    "order_reviews=pd.read_csv(ruta+'olist_order_reviews_dataset.csv', delimiter=',') "
   ]
  },
  {
   "cell_type": "code",
   "execution_count": 3,
   "metadata": {},
   "outputs": [],
   "source": [
    "# Organizar df con variables seleccionadas\n",
    "df=orders[['order_id','customer_id','order_purchase_timestamp','order_status']] \n",
    "aux=customer[['customer_id','customer_city','customer_state']] \n",
    "df=pd.merge(df, aux, how=\"left\", left_on=\"customer_id\", right_on=\"customer_id\")\n",
    "\n",
    "aux=order_items[['order_id','order_item_id','product_id','price','freight_value']] \n",
    "aux['total_price']=aux['price'] + aux['freight_value']\n",
    "df=pd.merge(df, aux, how=\"left\", left_on=\"order_id\", right_on=\"order_id\")\n",
    "\n",
    "aux=products[['product_id','product_category_name','product_photos_qty','product_weight_g','product_length_cm','product_height_cm','product_width_cm']] \n",
    "aux['product_vol']=aux['product_length_cm'] * aux['product_height_cm'] * aux['product_width_cm']\n",
    "df=pd.merge(df, aux, how=\"left\", left_on=\"product_id\", right_on=\"product_id\")\n",
    "\n",
    "aux=order_reviews[['order_id','review_score']] \n",
    "df=pd.merge(df, aux, how=\"left\", left_on=\"order_id\", right_on=\"order_id\")"
   ]
  },
  {
   "cell_type": "code",
   "execution_count": 4,
   "metadata": {},
   "outputs": [],
   "source": [
    "# Incluimos la informacion del tiempo\n",
    "df['ano_mes']=df['order_purchase_timestamp'].str.split('-', expand=True)[0]+\"-\"+df['order_purchase_timestamp'].str.split('-', expand=True)[1]\n",
    "df['ano_mes_dt'] = pd.to_datetime(df['ano_mes'])\n",
    "df['ano_mes_dia'] = df['order_purchase_timestamp'].str.split(' ', expand=True)[0]\n",
    "df['ano_mes_dia_dt'] = pd.to_datetime(df['ano_mes_dia'])\n",
    "df['fecha'] = pd.to_datetime(df['order_purchase_timestamp'])\n",
    "df['mes']= df['fecha'].dt.month\n",
    "df['year']=df['fecha'].dt.year\n",
    "df.ano_mes = df.ano_mes.astype('category')\n",
    "df['month_codes']= df.ano_mes.cat.codes"
   ]
  },
  {
   "cell_type": "code",
   "execution_count": 5,
   "metadata": {},
   "outputs": [
    {
     "name": "stdout",
     "output_type": "stream",
     "text": [
      "<class 'pandas.core.frame.DataFrame'>\n",
      "Int64Index: 114100 entries, 0 to 114099\n",
      "Data columns (total 27 columns):\n",
      " #   Column                    Non-Null Count   Dtype         \n",
      "---  ------                    --------------   -----         \n",
      " 0   order_id                  114100 non-null  object        \n",
      " 1   customer_id               114100 non-null  object        \n",
      " 2   order_purchase_timestamp  114100 non-null  object        \n",
      " 3   order_status              114100 non-null  object        \n",
      " 4   customer_city             114100 non-null  object        \n",
      " 5   customer_state            114100 non-null  object        \n",
      " 6   order_item_id             113322 non-null  float64       \n",
      " 7   product_id                113322 non-null  object        \n",
      " 8   price                     113322 non-null  float64       \n",
      " 9   freight_value             113322 non-null  float64       \n",
      " 10  total_price               113322 non-null  float64       \n",
      " 11  product_category_name     111710 non-null  object        \n",
      " 12  product_photos_qty        111710 non-null  float64       \n",
      " 13  product_weight_g          113304 non-null  float64       \n",
      " 14  product_length_cm         113304 non-null  float64       \n",
      " 15  product_height_cm         113304 non-null  float64       \n",
      " 16  product_width_cm          113304 non-null  float64       \n",
      " 17  product_vol               113304 non-null  float64       \n",
      " 18  review_score              114100 non-null  int64         \n",
      " 19  ano_mes                   114100 non-null  category      \n",
      " 20  ano_mes_dt                114100 non-null  datetime64[ns]\n",
      " 21  ano_mes_dia               114100 non-null  object        \n",
      " 22  ano_mes_dia_dt            114100 non-null  datetime64[ns]\n",
      " 23  fecha                     114100 non-null  datetime64[ns]\n",
      " 24  mes                       114100 non-null  int64         \n",
      " 25  year                      114100 non-null  int64         \n",
      " 26  month_codes               114100 non-null  int8          \n",
      "dtypes: category(1), datetime64[ns](3), float64(10), int64(3), int8(1), object(9)\n",
      "memory usage: 22.9+ MB\n"
     ]
    }
   ],
   "source": [
    "df.info()"
   ]
  },
  {
   "cell_type": "markdown",
   "metadata": {},
   "source": [
    "# Total price vs timeline (por producto)\n",
    "\n",
    "### Data Exploration"
   ]
  },
  {
   "cell_type": "code",
   "execution_count": 11,
   "metadata": {},
   "outputs": [],
   "source": [
    "#df2=df\n"
   ]
  },
  {
   "cell_type": "code",
   "execution_count": 115,
   "metadata": {},
   "outputs": [],
   "source": [
    "# Precio Promedio y ventas por mes\n",
    "listaF=list(df.ano_mes.unique())\n",
    "listaF.sort()\n",
    "\n",
    "y=listaF[0].split('-')[0]\n",
    "m=listaF[0].split('-')[1]\n",
    "aux=df[(df[\"year\"]==int(y))]\n",
    "aux=aux[(aux[\"mes\"]==int(m))]\n",
    "#aux=aux[(aux[\"order_id\"].isnull()==False)]  #borrar los nulos\n",
    "# Calculamos el precio promedio por producto y agregamos la nueva columna\n",
    "aux2=aux.groupby('product_id').agg({'price':'mean'}).rename(columns={'price':'price_mean_mes'})\n",
    "aux2=pd.merge(aux2, aux, how=\"left\", left_on=\"product_id\", right_on=\"product_id\")\n",
    "df3=aux2\n",
    "listaF.pop(0)\n",
    "\n",
    "for f in listaF :\n",
    "  y=f.split('-')[0]\n",
    "  m=f.split('-')[1]\n",
    "  aux=df[(df[\"year\"]==int(y))]\n",
    "  aux=aux[(aux[\"mes\"]==int(m))]\n",
    "  #aux=aux[(aux[\"order_id\"].isnull()==False)]  #borrar los nulos\n",
    "  # Calculamos el precio promedio por producto y agregamos la nueva columna\n",
    "  aux2=aux.groupby('product_id').agg({'price':'mean'}).rename(columns={'price':'price_mean_mes'})\n",
    "  aux2=pd.merge(aux2, aux, how=\"left\", left_on=\"product_id\", right_on=\"product_id\")\n",
    "  df3=pd.concat([df3, aux2],sort=True, axis=0)\n"
   ]
  },
  {
   "cell_type": "code",
   "execution_count": 138,
   "metadata": {},
   "outputs": [],
   "source": [
    "#\n",
    "df3=df3[(df3[\"product_vol\"].isnull()==False)]  #borrar los nulos\n",
    "df3[\"product_photos_qty\"].fillna(0,inplace=True)  #borrar los nulos"
   ]
  },
  {
   "cell_type": "code",
   "execution_count": 139,
   "metadata": {},
   "outputs": [
    {
     "data": {
      "text/plain": [
       "ano_mes                        0\n",
       "ano_mes_dia                    0\n",
       "ano_mes_dia_dt                 0\n",
       "ano_mes_dt                     0\n",
       "customer_city                  0\n",
       "customer_id                    0\n",
       "customer_state                 0\n",
       "fecha                          0\n",
       "freight_value                  0\n",
       "mes                            0\n",
       "month_codes                    0\n",
       "order_id                       0\n",
       "order_item_id                  0\n",
       "order_purchase_timestamp       0\n",
       "order_status                   0\n",
       "price                          0\n",
       "price_mean_mes                 0\n",
       "product_category_name       1595\n",
       "product_height_cm              0\n",
       "product_id                     0\n",
       "product_length_cm              0\n",
       "product_photos_qty             0\n",
       "product_vol                    0\n",
       "product_weight_g               0\n",
       "product_width_cm               0\n",
       "review_score                   0\n",
       "total_price                    0\n",
       "year                           0\n",
       "dtype: int64"
      ]
     },
     "execution_count": 139,
     "metadata": {},
     "output_type": "execute_result"
    }
   ],
   "source": [
    "df3.isnull().sum()\n"
   ]
  },
  {
   "cell_type": "code",
   "execution_count": 143,
   "metadata": {},
   "outputs": [
    {
     "data": {
      "text/plain": [
       "<AxesSubplot:>"
      ]
     },
     "execution_count": 143,
     "metadata": {},
     "output_type": "execute_result"
    },
    {
     "data": {
      "image/png": "[encoded data removed]",
      "text/plain": [
       "<Figure size 432x288 with 2 Axes>"
      ]
     },
     "metadata": {
      "needs_background": "light"
     },
     "output_type": "display_data"
    }
   ],
   "source": [
    "# calculamos la correlacion de las variables\n",
    "corr =df3[[\"price_mean_mes\",'product_vol','freight_value', 'review_score',\"product_photos_qty\",\"product_weight_g\"]].corr()\n",
    "sns.heatmap(corr, center=0, annot=True)"
   ]
  },
  {
   "cell_type": "code",
   "execution_count": 151,
   "metadata": {},
   "outputs": [
    {
     "name": "stdout",
     "output_type": "stream",
     "text": [
      "                            OLS Regression Results                            \n",
      "==============================================================================\n",
      "Dep. Variable:         price_mean_mes   R-squared:                       0.186\n",
      "Model:                            OLS   Adj. R-squared:                  0.186\n",
      "Method:                 Least Squares   F-statistic:                     926.6\n",
      "Date:                Sat, 19 Dec 2020   Prob (F-statistic):               0.00\n",
      "Time:                        18:01:38   Log-Likelihood:            -7.3945e+05\n",
      "No. Observations:              113304   AIC:                         1.479e+06\n",
      "Df Residuals:                  113275   BIC:                         1.479e+06\n",
      "Df Model:                          28                                         \n",
      "Covariance Type:            nonrobust                                         \n",
      "======================================================================================\n",
      "                         coef    std err          t      P>|t|      [0.025      0.975]\n",
      "--------------------------------------------------------------------------------------\n",
      "Intercept            -27.3620     67.464     -0.406      0.685    -159.590     104.866\n",
      "ano_mes[T.2016-10]    56.6752     68.015      0.833      0.405     -76.632     189.983\n",
      "ano_mes[T.2016-12]    -7.7359    178.487     -0.043      0.965    -357.568     342.096\n",
      "ano_mes[T.2017-01]    54.2780     67.679      0.802      0.423     -78.371     186.927\n",
      "ano_mes[T.2017-02]    46.9287     67.572      0.694      0.487     -85.512     179.369\n",
      "ano_mes[T.2017-03]    48.7750     67.536      0.722      0.470     -83.595     181.145\n",
      "ano_mes[T.2017-04]    56.7691     67.544      0.840      0.401     -75.616     189.154\n",
      "ano_mes[T.2017-05]    46.0347     67.518      0.682      0.495     -86.299     178.369\n",
      "ano_mes[T.2017-06]    43.9004     67.525      0.650      0.516     -88.448     176.249\n",
      "ano_mes[T.2017-07]    33.1695     67.514      0.491      0.623     -99.157     165.496\n",
      "ano_mes[T.2017-08]    41.3429     67.511      0.612      0.540     -90.977     173.663\n",
      "ano_mes[T.2017-09]    51.0725     67.511      0.757      0.449     -81.248     183.393\n",
      "ano_mes[T.2017-10]    47.6920     67.507      0.706      0.480     -84.620     180.004\n",
      "ano_mes[T.2017-11]    41.1099     67.491      0.609      0.542     -91.172     173.391\n",
      "ano_mes[T.2017-12]    44.2469     67.500      0.656      0.512     -88.053     176.547\n",
      "ano_mes[T.2018-01]    40.6776     67.493      0.603      0.547     -91.607     172.962\n",
      "ano_mes[T.2018-02]    39.6664     67.493      0.588      0.557     -92.619     171.952\n",
      "ano_mes[T.2018-03]    38.3960     67.491      0.569      0.569     -93.886     170.678\n",
      "ano_mes[T.2018-04]    44.1768     67.494      0.655      0.513     -88.111     176.465\n",
      "ano_mes[T.2018-05]    50.3280     67.495      0.746      0.456     -81.961     182.617\n",
      "ano_mes[T.2018-06]    36.4611     67.498      0.540      0.589     -95.835     168.757\n",
      "ano_mes[T.2018-07]    37.7025     67.499      0.559      0.576     -94.594     169.999\n",
      "ano_mes[T.2018-08]    40.2937     67.498      0.597      0.551     -92.001     172.589\n",
      "ano_mes[T.2018-09]    13.1894    178.487      0.074      0.941    -336.643     363.021\n",
      "ano_mes[T.2018-10]  7.679e-09    8.6e-08      0.089      0.929   -1.61e-07    1.76e-07\n",
      "product_vol           -0.0001    3.6e-05     -3.668      0.000      -0.000   -6.15e-05\n",
      "freight_value          3.8844      0.040     96.008      0.000       3.805       3.964\n",
      "review_score           1.3078      0.354      3.698      0.000       0.615       2.001\n",
      "product_photos_qty     4.1924      0.285     14.729      0.000       3.635       4.750\n",
      "product_weight_g       0.0072      0.000     31.436      0.000       0.007       0.008\n",
      "==============================================================================\n",
      "Omnibus:                   153115.565   Durbin-Watson:                   1.482\n",
      "Prob(Omnibus):                  0.000   Jarque-Bera (JB):         67511359.718\n",
      "Skew:                           7.561   Prob(JB):                         0.00\n",
      "Kurtosis:                     121.624   Cond. No.                     1.19e+16\n",
      "==============================================================================\n",
      "\n",
      "Notes:\n",
      "[1] Standard Errors assume that the covariance matrix of the errors is correctly specified.\n",
      "[2] The smallest eigenvalue is 6.3e-19. This might indicate that there are\n",
      "strong multicollinearity problems or that the design matrix is singular.\n"
     ]
    }
   ],
   "source": [
    "modelo1 = smf.ols(formula='price_mean_mes~product_vol+freight_value+review_score+product_photos_qty+product_weight_g+ano_mes', data=df3).fit()\n",
    "print(modelo1.summary())"
   ]
  },
  {
   "cell_type": "code",
   "execution_count": 144,
   "metadata": {},
   "outputs": [],
   "source": [
    "# Intentamos predecir el valor de este producto usando un modelo lineal (modelo 1)\n",
    "# Definimos la variables independientes y dependientes del modelo 1\n",
    "y = df3.price_mean_mes\n",
    "X = df3[['product_vol','freight_value', 'review_score',\"product_photos_qty\",\"product_weight_g\"]]\n",
    "# Dividimos el dataset en entrenamiento y prueba\n",
    "X_entren, X_prueb, y_entren, y_prueb = train_test_split(X, y, test_size=0.33,random_state=42)"
   ]
  },
  {
   "cell_type": "code",
   "execution_count": 145,
   "metadata": {},
   "outputs": [],
   "source": [
    "#Entrenamos el modelo 1\n",
    "modelo = LinearRegression().fit(X_entren, y_entren)"
   ]
  },
  {
   "cell_type": "code",
   "execution_count": 146,
   "metadata": {},
   "outputs": [
    {
     "name": "stdout",
     "output_type": "stream",
     "text": [
      "                    0         1\n",
      "0         product_vol -0.000096\n",
      "1       freight_value  3.838492\n",
      "2        review_score  1.697065\n",
      "3  product_photos_qty  4.196319\n",
      "4    product_weight_g  0.007176\n",
      "\n",
      "intercepto: 14.14720514551577\n",
      "r2: 0.18268108549787165\n"
     ]
    }
   ],
   "source": [
    "# Datos del modelo 1\n",
    "print(pd.DataFrame(zip(X_entren.columns, modelo.coef_)))\n",
    "print('\\nintercepto:', modelo.intercept_)\n",
    "print('r2:', modelo.score(X_prueb,y_prueb))"
   ]
  },
  {
   "cell_type": "code",
   "execution_count": 132,
   "metadata": {},
   "outputs": [
    {
     "name": "stdout",
     "output_type": "stream",
     "text": [
      "<class 'pandas.core.frame.DataFrame'>\n",
      "Int64Index: 113322 entries, 0 to 0\n",
      "Data columns (total 28 columns):\n",
      " #   Column                    Non-Null Count   Dtype         \n",
      "---  ------                    --------------   -----         \n",
      " 0   ano_mes                   113322 non-null  category      \n",
      " 1   ano_mes_dia               113322 non-null  object        \n",
      " 2   ano_mes_dia_dt            113322 non-null  datetime64[ns]\n",
      " 3   ano_mes_dt                113322 non-null  datetime64[ns]\n",
      " 4   customer_city             113322 non-null  object        \n",
      " 5   customer_id               113322 non-null  object        \n",
      " 6   customer_state            113322 non-null  object        \n",
      " 7   fecha                     113322 non-null  datetime64[ns]\n",
      " 8   freight_value             113322 non-null  float64       \n",
      " 9   mes                       113322 non-null  int64         \n",
      " 10  month_codes               113322 non-null  int8          \n",
      " 11  order_id                  113322 non-null  object        \n",
      " 12  order_item_id             113322 non-null  float64       \n",
      " 13  order_purchase_timestamp  113322 non-null  object        \n",
      " 14  order_status              113322 non-null  object        \n",
      " 15  price                     113322 non-null  float64       \n",
      " 16  price_mean_mes            113322 non-null  float64       \n",
      " 17  product_category_name     111710 non-null  object        \n",
      " 18  product_height_cm         113304 non-null  float64       \n",
      " 19  product_id                113322 non-null  object        \n",
      " 20  product_length_cm         113304 non-null  float64       \n",
      " 21  product_photos_qty        111710 non-null  float64       \n",
      " 22  product_vol               113304 non-null  float64       \n",
      " 23  product_weight_g          113304 non-null  float64       \n",
      " 24  product_width_cm          113304 non-null  float64       \n",
      " 25  review_score              113322 non-null  int64         \n",
      " 26  total_price               113322 non-null  float64       \n",
      " 27  year                      113322 non-null  int64         \n",
      "dtypes: category(1), datetime64[ns](3), float64(11), int64(3), int8(1), object(9)\n",
      "memory usage: 23.6+ MB\n"
     ]
    }
   ],
   "source": [
    "df3.info()\n"
   ]
  },
  {
   "cell_type": "code",
   "execution_count": null,
   "metadata": {},
   "outputs": [],
   "source": [
    "\n",
    "m\n"
   ]
  },
  {
   "cell_type": "code",
   "execution_count": null,
   "metadata": {},
   "outputs": [],
   "source": [
    "\n"
   ]
  },
  {
   "cell_type": "code",
   "execution_count": 82,
   "metadata": {},
   "outputs": [
    {
     "data": {
      "text/html": [
       "<div>\n",
       "<style scoped>\n",
       "    .dataframe tbody tr th:only-of-type {\n",
       "        vertical-align: middle;\n",
       "    }\n",
       "\n",
       "    .dataframe tbody tr th {\n",
       "        vertical-align: top;\n",
       "    }\n",
       "\n",
       "    .dataframe thead th {\n",
       "        text-align: right;\n",
       "    }\n",
       "</style>\n",
       "<table border=\"1\" class=\"dataframe\">\n",
       "  <thead>\n",
       "    <tr style=\"text-align: right;\">\n",
       "      <th></th>\n",
       "      <th>price_mean_mes</th>\n",
       "      <th>order_id</th>\n",
       "      <th>customer_id</th>\n",
       "      <th>order_purchase_timestamp</th>\n",
       "      <th>order_status</th>\n",
       "      <th>customer_city</th>\n",
       "      <th>customer_state</th>\n",
       "      <th>order_item_id</th>\n",
       "      <th>product_id</th>\n",
       "      <th>price</th>\n",
       "      <th>...</th>\n",
       "      <th>product_vol</th>\n",
       "      <th>review_score</th>\n",
       "      <th>ano_mes</th>\n",
       "      <th>ano_mes_dt</th>\n",
       "      <th>ano_mes_dia</th>\n",
       "      <th>ano_mes_dia_dt</th>\n",
       "      <th>fecha</th>\n",
       "      <th>mes</th>\n",
       "      <th>year</th>\n",
       "      <th>month_codes</th>\n",
       "    </tr>\n",
       "  </thead>\n",
       "  <tbody>\n",
       "  </tbody>\n",
       "</table>\n",
       "<p>0 rows × 700 columns</p>\n",
       "</div>"
      ],
      "text/plain": [
       "Empty DataFrame\n",
       "Columns: [price_mean_mes, order_id, customer_id, order_purchase_timestamp, order_status, customer_city, customer_state, order_item_id, product_id, price, freight_value, total_price, product_category_name, product_photos_qty, product_weight_g, product_length_cm, product_height_cm, product_width_cm, product_vol, review_score, ano_mes, ano_mes_dt, ano_mes_dia, ano_mes_dia_dt, fecha, mes, year, month_codes, price_mean_mes, order_id, customer_id, order_purchase_timestamp, order_status, customer_city, customer_state, order_item_id, product_id, price, freight_value, total_price, product_category_name, product_photos_qty, product_weight_g, product_length_cm, product_height_cm, product_width_cm, product_vol, review_score, ano_mes, ano_mes_dt, ano_mes_dia, ano_mes_dia_dt, fecha, mes, year, month_codes, price_mean_mes, order_id, customer_id, order_purchase_timestamp, order_status, customer_city, customer_state, order_item_id, product_id, price, freight_value, total_price, product_category_name, product_photos_qty, product_weight_g, product_length_cm, product_height_cm, product_width_cm, product_vol, review_score, ano_mes, ano_mes_dt, ano_mes_dia, ano_mes_dia_dt, fecha, mes, year, month_codes, price_mean_mes, order_id, customer_id, order_purchase_timestamp, order_status, customer_city, customer_state, order_item_id, product_id, price, freight_value, total_price, product_category_name, product_photos_qty, product_weight_g, product_length_cm, ...]\n",
       "Index: []\n",
       "\n",
       "[0 rows x 700 columns]"
      ]
     },
     "execution_count": 82,
     "metadata": {},
     "output_type": "execute_result"
    }
   ],
   "source": [
    "df3"
   ]
  },
  {
   "cell_type": "code",
   "execution_count": null,
   "metadata": {},
   "outputs": [],
   "source": [
    "# Precio Promedio y ventas por mes\n",
    "m=3   #numero entre 1 y 12 para los diferentes meses\n",
    "y=2018\n",
    "aux=df[(df[\"year\"]==y)]\n",
    "aux=aux[(aux[\"mes\"]==m)]\n",
    "#aux=aux[(aux[\"order_id\"].isnull()==False)]  #borrar los nulos\n",
    "# Calculamos el precio promedio por producto y agregamos la nueva columna\n",
    "aux2=aux.groupby('product_id').agg({'price':'mean'}).rename(columns={'price':'price_mean'})\n",
    "aux=pd.merge(aux, aux2, how=\"left\", left_on=\"product_id\", right_on=\"product_id\")\n",
    "\n",
    "aux2=aux.groupby([\"fecha\",'order_id']).size().to_frame().rename(columns={0:'product_sales'}).sort_values('fecha', ascending=True).reset_index()\n",
    "aux2.drop(['order_id'],axis=1, inplace=True)\n",
    "aux=pd.merge(aux, aux2, how=\"left\", left_on=\"fecha\", right_on=\"fecha\")\n",
    "\n",
    "plt.figure(figsize=(16, 4))\n",
    "ax=sns.lineplot(x='fecha', y='price', data=aux)\n",
    "# ax=sns.scatterplot(x='fecha', y='price', data=aux)\n",
    "ax.set_title('Precio vs Tiempo (producto: '+listaProductos[item]+')')\n",
    "\n",
    "plt.figure(figsize=(16, 4))\n",
    "ax=sns.scatterplot(x='fecha', y='product_sales', data=aux)\n",
    "ax.set_title('Ventas vs Tiempo (producto: '+listaProductos[item]+')')\n",
    "\n",
    "plt.figure(figsize=(16, 4))\n",
    "ax=sns.scatterplot(x='fecha', y='freight_value', data=aux)\n",
    "ax.set_title('Flete vs Tiempo (producto: '+listaProductos[item]+')')\n",
    "\n",
    "plt.figure(figsize=(16, 4))\n",
    "ax=sns.scatterplot(x='fecha', y='customer_state', data=aux)\n",
    "ax.set_title('Estado vs Tiempo (producto: '+listaProductos[item]+')')\n",
    "\n",
    "plt.figure(figsize=(16, 4))\n",
    "ax=sns.scatterplot(x='fecha', y='review_score', data=aux)\n",
    "ax.set_title('Review vs Tiempo (producto: '+listaProductos[item]+')')\n",
    "\n",
    "print(\"Precios para este producto: \",aux.price.unique())\n",
    "print(\"Categoria: \"+aux.product_category_name.unique())"
   ]
  }
 ],
 "metadata": {
  "kernelspec": {
   "display_name": "Python 3",
   "language": "python",
   "name": "python3"
  },
  "language_info": {
   "codemirror_mode": {
    "name": "ipython",
    "version": 3
   },
   "file_extension": ".py",
   "mimetype": "text/x-python",
   "name": "python",
   "nbconvert_exporter": "python",
   "pygments_lexer": "ipython3",
   "version": "3.6.9"
  }
 },
 "nbformat": 4,
 "nbformat_minor": 2
}
